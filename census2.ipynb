{
 "cells": [
  {
   "cell_type": "markdown",
   "id": "4c15cfd1-9fa2-49f6-a06c-499b41bf5933",
   "metadata": {},
   "source": [
    "# Census Report Project Data"
   ]
  },
  {
   "cell_type": "code",
   "execution_count": 1,
   "id": "f9752fcc-bf00-4894-9caa-ddadba6de206",
   "metadata": {},
   "outputs": [],
   "source": [
    "import pandas as pd\n",
    "import numpy as np\n",
    "import seaborn as sns\n",
    "import matplotlib.pyplot as plt\n",
    "\n",
    "import warnings\n",
    "warnings.filterwarnings(\"ignore\")"
   ]
  },
  {
   "cell_type": "markdown",
   "id": "5a3dd602-ac41-4895-873e-85dc3fd35bd0",
   "metadata": {},
   "source": [
    "# Importing file and check first 5 rows:"
   ]
  },
  {
   "cell_type": "code",
   "execution_count": 2,
   "id": "6e62e1a3-becc-4e3b-b3be-557e7a5992f4",
   "metadata": {},
   "outputs": [
    {
     "data": {
      "text/html": [
       "<div>\n",
       "<style scoped>\n",
       "    .dataframe tbody tr th:only-of-type {\n",
       "        vertical-align: middle;\n",
       "    }\n",
       "\n",
       "    .dataframe tbody tr th {\n",
       "        vertical-align: top;\n",
       "    }\n",
       "\n",
       "    .dataframe thead th {\n",
       "        text-align: right;\n",
       "    }\n",
       "</style>\n",
       "<table border=\"1\" class=\"dataframe\">\n",
       "  <thead>\n",
       "    <tr style=\"text-align: right;\">\n",
       "      <th></th>\n",
       "      <th>House Number</th>\n",
       "      <th>Street</th>\n",
       "      <th>First Name</th>\n",
       "      <th>Surname</th>\n",
       "      <th>Age</th>\n",
       "      <th>Relationship to Head of House</th>\n",
       "      <th>Marital Status</th>\n",
       "      <th>Gender</th>\n",
       "      <th>Occupation</th>\n",
       "      <th>Infirmity</th>\n",
       "      <th>Religion</th>\n",
       "    </tr>\n",
       "  </thead>\n",
       "  <tbody>\n",
       "    <tr>\n",
       "      <th>0</th>\n",
       "      <td>1</td>\n",
       "      <td>Kaur Drive</td>\n",
       "      <td>Douglas</td>\n",
       "      <td>Adams</td>\n",
       "      <td>77.0</td>\n",
       "      <td>Head</td>\n",
       "      <td>Widowed</td>\n",
       "      <td>Male</td>\n",
       "      <td>Retired Museum education officer</td>\n",
       "      <td>NaN</td>\n",
       "      <td>Christian</td>\n",
       "    </tr>\n",
       "    <tr>\n",
       "      <th>1</th>\n",
       "      <td>2</td>\n",
       "      <td>Kaur Drive</td>\n",
       "      <td>Hollie</td>\n",
       "      <td>West</td>\n",
       "      <td>79.0</td>\n",
       "      <td>Head</td>\n",
       "      <td>Single</td>\n",
       "      <td>Female</td>\n",
       "      <td>Retired Dealer</td>\n",
       "      <td>NaN</td>\n",
       "      <td>Christian</td>\n",
       "    </tr>\n",
       "    <tr>\n",
       "      <th>2</th>\n",
       "      <td>3</td>\n",
       "      <td>Kaur Drive</td>\n",
       "      <td>Joseph</td>\n",
       "      <td>Hall</td>\n",
       "      <td>55.0</td>\n",
       "      <td>Head</td>\n",
       "      <td>Single</td>\n",
       "      <td>Male</td>\n",
       "      <td>Fast food restaurant manager</td>\n",
       "      <td>NaN</td>\n",
       "      <td>Christian</td>\n",
       "    </tr>\n",
       "    <tr>\n",
       "      <th>3</th>\n",
       "      <td>4</td>\n",
       "      <td>Kaur Drive</td>\n",
       "      <td>Gregory</td>\n",
       "      <td>Cox</td>\n",
       "      <td>35.0</td>\n",
       "      <td>Head</td>\n",
       "      <td>Single</td>\n",
       "      <td>Male</td>\n",
       "      <td>Housing manager/officer</td>\n",
       "      <td>NaN</td>\n",
       "      <td>NaN</td>\n",
       "    </tr>\n",
       "    <tr>\n",
       "      <th>4</th>\n",
       "      <td>5</td>\n",
       "      <td>Kaur Drive</td>\n",
       "      <td>Lydia</td>\n",
       "      <td>Jones</td>\n",
       "      <td>42.0</td>\n",
       "      <td>Head</td>\n",
       "      <td>Single</td>\n",
       "      <td>Female</td>\n",
       "      <td>Unemployed</td>\n",
       "      <td>NaN</td>\n",
       "      <td>Catholic</td>\n",
       "    </tr>\n",
       "  </tbody>\n",
       "</table>\n",
       "</div>"
      ],
      "text/plain": [
       "   House Number      Street First Name Surname   Age  \\\n",
       "0             1  Kaur Drive    Douglas   Adams  77.0   \n",
       "1             2  Kaur Drive     Hollie    West  79.0   \n",
       "2             3  Kaur Drive     Joseph    Hall  55.0   \n",
       "3             4  Kaur Drive    Gregory     Cox  35.0   \n",
       "4             5  Kaur Drive      Lydia   Jones  42.0   \n",
       "\n",
       "  Relationship to Head of House Marital Status  Gender  \\\n",
       "0                          Head        Widowed    Male   \n",
       "1                          Head         Single  Female   \n",
       "2                          Head         Single    Male   \n",
       "3                          Head         Single    Male   \n",
       "4                          Head         Single  Female   \n",
       "\n",
       "                         Occupation Infirmity   Religion  \n",
       "0  Retired Museum education officer       NaN  Christian  \n",
       "1                    Retired Dealer       NaN  Christian  \n",
       "2      Fast food restaurant manager       NaN  Christian  \n",
       "3           Housing manager/officer       NaN        NaN  \n",
       "4                        Unemployed       NaN   Catholic  "
      ]
     },
     "execution_count": 2,
     "metadata": {},
     "output_type": "execute_result"
    }
   ],
   "source": [
    "# Import CSV file and see first 5 rows:\n",
    "census = pd.read_csv(\"census2_wed-Copy1.csv.\")\n",
    "census.head()"
   ]
  },
  {
   "cell_type": "markdown",
   "id": "d42adaa5-1a16-48ed-9138-6bc032697136",
   "metadata": {},
   "source": [
    "# Summary of the Dataframe"
   ]
  },
  {
   "cell_type": "code",
   "execution_count": 3,
   "id": "517e4137-3374-42b0-ab5a-9347addc0c8e",
   "metadata": {},
   "outputs": [
    {
     "name": "stdout",
     "output_type": "stream",
     "text": [
      "<class 'pandas.core.frame.DataFrame'>\n",
      "RangeIndex: 10118 entries, 0 to 10117\n",
      "Data columns (total 11 columns):\n",
      " #   Column                         Non-Null Count  Dtype  \n",
      "---  ------                         --------------  -----  \n",
      " 0   House Number                   10118 non-null  int64  \n",
      " 1   Street                         10118 non-null  object \n",
      " 2   First Name                     10118 non-null  object \n",
      " 3   Surname                        10118 non-null  object \n",
      " 4   Age                            10118 non-null  float64\n",
      " 5   Relationship to Head of House  9356 non-null   object \n",
      " 6   Marital Status                 7634 non-null   object \n",
      " 7   Gender                         10118 non-null  object \n",
      " 8   Occupation                     10118 non-null  object \n",
      " 9   Infirmity                      84 non-null     object \n",
      " 10  Religion                       4123 non-null   object \n",
      "dtypes: float64(1), int64(1), object(9)\n",
      "memory usage: 869.6+ KB\n"
     ]
    }
   ],
   "source": [
    "# summary of the DataFrame\n",
    "census.info()"
   ]
  },
  {
   "cell_type": "markdown",
   "id": "df0baebc-ed36-4496-97a7-813e313da691",
   "metadata": {},
   "source": [
    "# Count the number of missing values(NaN values)"
   ]
  },
  {
   "cell_type": "code",
   "execution_count": 4,
   "id": "d36f5ec6-53d5-4db8-855d-5979d393f8bc",
   "metadata": {},
   "outputs": [
    {
     "name": "stdout",
     "output_type": "stream",
     "text": [
      "House Number                         0\n",
      "Street                               0\n",
      "First Name                           0\n",
      "Surname                              0\n",
      "Age                                  0\n",
      "Relationship to Head of House      762\n",
      "Marital Status                    2484\n",
      "Gender                               0\n",
      "Occupation                           0\n",
      "Infirmity                        10034\n",
      "Religion                          5995\n",
      "dtype: int64\n"
     ]
    }
   ],
   "source": [
    "# count the number of missing values (NaN values):\n",
    "print(census.isna().sum())"
   ]
  },
  {
   "cell_type": "markdown",
   "id": "fe575514-9312-4f8f-ac07-623853b5b09a",
   "metadata": {},
   "source": [
    "# Checking the Dataype:"
   ]
  },
  {
   "cell_type": "code",
   "execution_count": 5,
   "id": "61ce5cc3-926a-466a-923a-a04660440df0",
   "metadata": {},
   "outputs": [
    {
     "data": {
      "text/plain": [
       "House Number                       int64\n",
       "Street                            object\n",
       "First Name                        object\n",
       "Surname                           object\n",
       "Age                              float64\n",
       "Relationship to Head of House     object\n",
       "Marital Status                    object\n",
       "Gender                            object\n",
       "Occupation                        object\n",
       "Infirmity                         object\n",
       "Religion                          object\n",
       "dtype: object"
      ]
     },
     "execution_count": 5,
     "metadata": {},
     "output_type": "execute_result"
    }
   ],
   "source": [
    "# checking the data types for each column\n",
    "census.dtypes"
   ]
  },
  {
   "cell_type": "markdown",
   "id": "926c611c-d343-4d29-ac09-fc927d6490be",
   "metadata": {},
   "source": [
    "# Converting the Datatype:"
   ]
  },
  {
   "cell_type": "code",
   "execution_count": 6,
   "id": "2b2313ed-36f6-476f-a0b1-cabd0a2feb99",
   "metadata": {},
   "outputs": [],
   "source": [
    "# here we can see age is in float however, age must be in integer\n",
    "census[\"Age\"] = census[\"Age\"].astype('int64')"
   ]
  },
  {
   "cell_type": "code",
   "execution_count": 7,
   "id": "f4b9c1d4-ed45-4232-8ffe-99e2a4204ef2",
   "metadata": {},
   "outputs": [
    {
     "data": {
      "text/plain": [
       "House Number                      int64\n",
       "Street                           object\n",
       "First Name                       object\n",
       "Surname                          object\n",
       "Age                               int64\n",
       "Relationship to Head of House    object\n",
       "Marital Status                   object\n",
       "Gender                           object\n",
       "Occupation                       object\n",
       "Infirmity                        object\n",
       "Religion                         object\n",
       "dtype: object"
      ]
     },
     "execution_count": 7,
     "metadata": {},
     "output_type": "execute_result"
    }
   ],
   "source": [
    "# now again checking the data types for each column\n",
    "census.dtypes"
   ]
  },
  {
   "cell_type": "markdown",
   "id": "270d9014-1ade-450d-a8d6-22767329f219",
   "metadata": {},
   "source": [
    "# Columns with missing values:"
   ]
  },
  {
   "cell_type": "code",
   "execution_count": 8,
   "id": "0ec79ddf-0f22-4d5f-8c54-5b3908dc6104",
   "metadata": {},
   "outputs": [
    {
     "name": "stdout",
     "output_type": "stream",
     "text": [
      "Index(['Relationship to Head of House', 'Marital Status', 'Infirmity',\n",
      "       'Religion'],\n",
      "      dtype='object')\n"
     ]
    }
   ],
   "source": [
    "# columns with missing values:\n",
    "cols_with_missing_values = census.columns[census.isna().sum()>0]\n",
    "print(cols_with_missing_values)"
   ]
  },
  {
   "cell_type": "markdown",
   "id": "f99fec72-e413-42a1-8f88-0d6892e3dbd2",
   "metadata": {},
   "source": [
    "# Cleaning and Filling Relationship to Head of House"
   ]
  },
  {
   "cell_type": "code",
   "execution_count": 9,
   "id": "1059b322-6659-4017-b62e-ee96e5900358",
   "metadata": {},
   "outputs": [
    {
     "data": {
      "text/plain": [
       "762"
      ]
     },
     "execution_count": 9,
     "metadata": {},
     "output_type": "execute_result"
    }
   ],
   "source": [
    "# checking number of NaN values:\n",
    "census[\"Relationship to Head of House\"].isna().sum()"
   ]
  },
  {
   "cell_type": "code",
   "execution_count": 10,
   "id": "ed6b6011-baf8-46f4-8d56-739915760646",
   "metadata": {},
   "outputs": [],
   "source": [
    "# Fill the missing values in 'Relationship to Head of House' column:\n",
    "def fill_relationship(row):\n",
    "    if pd.isna(row['Relationship to Head of House']):\n",
    "        # Check if the 'Relationship to Head of House' for the same 'House Number' and 'Street' is already filled\n",
    "        same_house = census.loc[(census['House Number'] == row['House Number']) & (census['Street'] == row['Street']) \n",
    "        & (~census['Relationship to Head of House'].isna()), 'Relationship to Head of House'].values\n",
    "        if 'Head' in same_house:\n",
    "            # If there is already a 'Head' in the same house, assign 'Child', 'Spouse', or 'Lodger/Visitor' based on age, marital status, and gender\n",
    "            if row['Age'] < 18:\n",
    "                return 'Child'\n",
    "            elif row['Marital Status'] == 'Married':\n",
    "                return 'Spouse'\n",
    "            else:\n",
    "                return 'Lodger/Visitor'\n",
    "        elif len(same_house) > 0:\n",
    "            # If there is no 'Head' in the same house, fill with the existing value, but check for gender mismatch\n",
    "            existing_value = same_house[0]\n",
    "            if ('Daughter' in existing_value and row['Gender'] == 'Male') or ('Son' in existing_value and row['Gender'] == 'Female'):\n",
    "                # If there is a gender mismatch, assign 'Child' instead\n",
    "                return 'Child'\n",
    "            else:\n",
    "                return existing_value\n",
    "        elif row['Age'] < 18:\n",
    "            # Assume it's a child if age is less than 18\n",
    "            return 'Child'\n",
    "        else:\n",
    "            # Assume it's a lodger/visitor if age is 18 or above\n",
    "            return 'Lodger/Visitor'\n",
    "    else:\n",
    "        return row['Relationship to Head of House']\n",
    "\n",
    "# Apply the function to the 'Relationship to Head of House' column\n",
    "census['Relationship to Head of House'] = census.apply(fill_relationship, axis=1)"
   ]
  },
  {
   "cell_type": "code",
   "execution_count": 11,
   "id": "829257f5-ab44-4417-9f05-bc91e580a497",
   "metadata": {},
   "outputs": [
    {
     "data": {
      "text/plain": [
       "0"
      ]
     },
     "execution_count": 11,
     "metadata": {},
     "output_type": "execute_result"
    }
   ],
   "source": [
    "census[\"Relationship to Head of House\"].isna().sum()"
   ]
  },
  {
   "cell_type": "code",
   "execution_count": 12,
   "id": "beefa70c-a263-4124-862c-3432b8e12f89",
   "metadata": {},
   "outputs": [
    {
     "data": {
      "text/plain": [
       "array(['Head', 'Son', 'Granddaughter', 'Daughter', 'Husband', 'Wife',\n",
       "       'Grandson', 'Visitor', 'Lodger', 'Lodger/Visitor', 'Partner',\n",
       "       'Adopted Son', 'Step-Son', 'Step-Daughter', 'Sibling', 'Cousin',\n",
       "       'Nephew', 'Adopted Daughter', 'Neice', 'Spouse', 'Child',\n",
       "       'Adopted Grandson', ' '], dtype=object)"
      ]
     },
     "execution_count": 12,
     "metadata": {},
     "output_type": "execute_result"
    }
   ],
   "source": [
    "# Checking Empty Strings:\n",
    "census[\"Relationship to Head of House\"].unique()"
   ]
  },
  {
   "cell_type": "code",
   "execution_count": 13,
   "id": "f84d1ff2-4311-4575-a9a2-a34c6eceec47",
   "metadata": {},
   "outputs": [],
   "source": [
    "# Replace empty strings with NaN\n",
    "census['Relationship to Head of House'] = census['Relationship to Head of House'].replace(' ', np.nan)\n",
    "\n",
    "# Fill the NaN values with a default value (e.g., 'Unknown')\n",
    "census['Relationship to Head of House'] = census['Relationship to Head of House'].fillna('Unknown')"
   ]
  },
  {
   "cell_type": "code",
   "execution_count": 14,
   "id": "d8e65bf3-2137-4541-9000-2a39254f5567",
   "metadata": {},
   "outputs": [
    {
     "data": {
      "text/plain": [
       "array(['Head', 'Son', 'Granddaughter', 'Daughter', 'Husband', 'Wife',\n",
       "       'Grandson', 'Visitor', 'Lodger', 'Lodger/Visitor', 'Partner',\n",
       "       'Adopted Son', 'Step-Son', 'Step-Daughter', 'Sibling', 'Cousin',\n",
       "       'Nephew', 'Adopted Daughter', 'Neice', 'Spouse', 'Child',\n",
       "       'Adopted Grandson', 'Unknown'], dtype=object)"
      ]
     },
     "execution_count": 14,
     "metadata": {},
     "output_type": "execute_result"
    }
   ],
   "source": [
    "# Checking Empty Strings:\n",
    "census[\"Relationship to Head of House\"].unique()"
   ]
  },
  {
   "cell_type": "code",
   "execution_count": 15,
   "id": "29cd6df0-b641-48d7-90d4-f626989c39f1",
   "metadata": {},
   "outputs": [],
   "source": [
    "# correcting Niece\n",
    "# Replace 'Neice' with 'Niece' in the 'Relationship to Head of House' colum\n",
    "\n",
    "census['Relationship to Head of House'] = census['Relationship to Head of House'].replace('Neice', 'Niece')\n",
    "\n",
    "# Now 'Neice' should be replaced with 'Niece' in the 'Relationship to Head of House' column\n"
   ]
  },
  {
   "cell_type": "code",
   "execution_count": 16,
   "id": "fcf6132e-1db1-4183-8640-c676ae13f2a1",
   "metadata": {},
   "outputs": [
    {
     "data": {
      "text/plain": [
       "array(['Head', 'Son', 'Granddaughter', 'Daughter', 'Husband', 'Wife',\n",
       "       'Grandson', 'Visitor', 'Lodger', 'Lodger/Visitor', 'Partner',\n",
       "       'Adopted Son', 'Step-Son', 'Step-Daughter', 'Sibling', 'Cousin',\n",
       "       'Nephew', 'Adopted Daughter', 'Niece', 'Spouse', 'Child',\n",
       "       'Adopted Grandson', 'Unknown'], dtype=object)"
      ]
     },
     "execution_count": 16,
     "metadata": {},
     "output_type": "execute_result"
    }
   ],
   "source": [
    "# Checking Corrected Strings:\n",
    "census[\"Relationship to Head of House\"].unique()"
   ]
  },
  {
   "cell_type": "markdown",
   "id": "c1ce8644-2f5c-4b07-99d5-c2cd4b57dfc7",
   "metadata": {},
   "source": [
    "# Cleaning and Filling Martial Status:"
   ]
  },
  {
   "cell_type": "code",
   "execution_count": 17,
   "id": "ecd157ec-3eff-4dfd-98d2-8ebb8054e38e",
   "metadata": {},
   "outputs": [
    {
     "data": {
      "text/plain": [
       "2484"
      ]
     },
     "execution_count": 17,
     "metadata": {},
     "output_type": "execute_result"
    }
   ],
   "source": [
    "# checking number of NaN values:\n",
    "census[\"Marital Status\"].isna().sum()"
   ]
  },
  {
   "cell_type": "code",
   "execution_count": 18,
   "id": "97d18083-d5d8-42ba-b544-03157c8c5daf",
   "metadata": {},
   "outputs": [
    {
     "data": {
      "text/html": [
       "<div>\n",
       "<style scoped>\n",
       "    .dataframe tbody tr th:only-of-type {\n",
       "        vertical-align: middle;\n",
       "    }\n",
       "\n",
       "    .dataframe tbody tr th {\n",
       "        vertical-align: top;\n",
       "    }\n",
       "\n",
       "    .dataframe thead th {\n",
       "        text-align: right;\n",
       "    }\n",
       "</style>\n",
       "<table border=\"1\" class=\"dataframe\">\n",
       "  <thead>\n",
       "    <tr style=\"text-align: right;\">\n",
       "      <th></th>\n",
       "      <th>House Number</th>\n",
       "      <th>Street</th>\n",
       "      <th>First Name</th>\n",
       "      <th>Surname</th>\n",
       "      <th>Age</th>\n",
       "      <th>Relationship to Head of House</th>\n",
       "      <th>Marital Status</th>\n",
       "      <th>Gender</th>\n",
       "      <th>Occupation</th>\n",
       "      <th>Infirmity</th>\n",
       "      <th>Religion</th>\n",
       "    </tr>\n",
       "  </thead>\n",
       "  <tbody>\n",
       "    <tr>\n",
       "      <th>9582</th>\n",
       "      <td>18</td>\n",
       "      <td>Estuary Roads</td>\n",
       "      <td>Marie</td>\n",
       "      <td>Patterson</td>\n",
       "      <td>17</td>\n",
       "      <td>Head</td>\n",
       "      <td>Married</td>\n",
       "      <td>Female</td>\n",
       "      <td>Student</td>\n",
       "      <td>NaN</td>\n",
       "      <td>NaN</td>\n",
       "    </tr>\n",
       "  </tbody>\n",
       "</table>\n",
       "</div>"
      ],
      "text/plain": [
       "      House Number         Street First Name    Surname  Age  \\\n",
       "9582            18  Estuary Roads      Marie  Patterson   17   \n",
       "\n",
       "     Relationship to Head of House Marital Status  Gender Occupation  \\\n",
       "9582                          Head        Married  Female    Student   \n",
       "\n",
       "     Infirmity Religion  \n",
       "9582       NaN      NaN  "
      ]
     },
     "execution_count": 18,
     "metadata": {},
     "output_type": "execute_result"
    }
   ],
   "source": [
    "# check the martial status column for below 18:\n",
    "census[(census['Age'] < 18) & (census['Marital Status'].isin(['Widowed', 'Married', 'Divorced']))]"
   ]
  },
  {
   "cell_type": "code",
   "execution_count": 19,
   "id": "513f3e56-6237-4b73-888e-b464a861ba1f",
   "metadata": {},
   "outputs": [],
   "source": [
    "# update the Martial Status to Single for rows where 'Age' is less than 18\n",
    "census.loc[census['Age'] < 18, 'Marital Status'] = 'Single'"
   ]
  },
  {
   "cell_type": "code",
   "execution_count": 20,
   "id": "095a7097-e4df-4da2-bd5b-d029a8746c52",
   "metadata": {},
   "outputs": [
    {
     "data": {
      "text/html": [
       "<div>\n",
       "<style scoped>\n",
       "    .dataframe tbody tr th:only-of-type {\n",
       "        vertical-align: middle;\n",
       "    }\n",
       "\n",
       "    .dataframe tbody tr th {\n",
       "        vertical-align: top;\n",
       "    }\n",
       "\n",
       "    .dataframe thead th {\n",
       "        text-align: right;\n",
       "    }\n",
       "</style>\n",
       "<table border=\"1\" class=\"dataframe\">\n",
       "  <thead>\n",
       "    <tr style=\"text-align: right;\">\n",
       "      <th></th>\n",
       "      <th>House Number</th>\n",
       "      <th>Street</th>\n",
       "      <th>First Name</th>\n",
       "      <th>Surname</th>\n",
       "      <th>Age</th>\n",
       "      <th>Relationship to Head of House</th>\n",
       "      <th>Marital Status</th>\n",
       "      <th>Gender</th>\n",
       "      <th>Occupation</th>\n",
       "      <th>Infirmity</th>\n",
       "      <th>Religion</th>\n",
       "    </tr>\n",
       "  </thead>\n",
       "  <tbody>\n",
       "  </tbody>\n",
       "</table>\n",
       "</div>"
      ],
      "text/plain": [
       "Empty DataFrame\n",
       "Columns: [House Number, Street, First Name, Surname, Age, Relationship to Head of House, Marital Status, Gender, Occupation, Infirmity, Religion]\n",
       "Index: []"
      ]
     },
     "execution_count": 20,
     "metadata": {},
     "output_type": "execute_result"
    }
   ],
   "source": [
    "# Again check the row where marital status updated or not\n",
    "census[(census['Age'] < 18) & (census['Marital Status'].isin(['Widowed', 'Married', 'Divorced']))]"
   ]
  },
  {
   "cell_type": "code",
   "execution_count": 21,
   "id": "a09f6f2f-1b79-4018-b377-929e622e2e36",
   "metadata": {},
   "outputs": [],
   "source": [
    "# Fill the missing values in 'Marital Status' column:\n",
    "\n",
    "def fill_marital_status(row):\n",
    "    if pd.isna(row['Marital Status']):\n",
    "        # Check if the 'Marital Status' for the same 'House Number' and 'Street' is already filled\n",
    "        same_house = census.loc[(census['House Number'] == row['House Number']) & (census['Street'] == row['Street']) \n",
    "        & (~census['Marital Status'].isna()), 'Marital Status'].values\n",
    "        if len(same_house) > 0:\n",
    "            # If there is an existing value for the same house, check if it contradicts the 'Relationship to Head of House'\n",
    "            existing_value = same_house[0]\n",
    "            relationship = row['Relationship to Head of House']\n",
    "            if (existing_value == 'Divorced' and relationship in ['Wife', 'Husband']) or (existing_value == 'Married' and relationship not in \n",
    "                                                                                          ['Wife', 'Husband']):\n",
    "                # If there is a contradiction, ignore the existing value and proceed with other logic\n",
    "                pass\n",
    "            else:\n",
    "                # If there is no contradiction, fill with the existing value\n",
    "                return existing_value\n",
    "        elif row['Age'] < 18:\n",
    "            # Assume 'Single' if age is less than 18\n",
    "            return 'Single'\n",
    "        elif row['Relationship to Head of House'] in ['Child']:\n",
    "            # Assume 'Single' for 'Child' relationship\n",
    "            return 'Single'\n",
    "        elif row['Relationship to Head of House'] in ['Son', 'Daughter', 'Grandson', 'Granddaughter'] and row['Age'] < 18:\n",
    "            # Assume 'Single' for 'Son', 'Daughter', 'Grandson', 'Granddaughter' relationships if age is less than 18\n",
    "            return 'Single'\n",
    "        else:\n",
    "            # For other cases, assume 'Unknown'\n",
    "            return 'Unknown'\n",
    "    else:\n",
    "        return row['Marital Status']\n",
    "\n",
    "# Apply the function to the 'Marital Status' column\n",
    "census['Marital Status'] = census.apply(fill_marital_status, axis=1)"
   ]
  },
  {
   "cell_type": "code",
   "execution_count": 22,
   "id": "965dd196-246b-4349-8e34-0c0d4a770597",
   "metadata": {},
   "outputs": [
    {
     "data": {
      "text/plain": [
       "0"
      ]
     },
     "execution_count": 22,
     "metadata": {},
     "output_type": "execute_result"
    }
   ],
   "source": [
    "# Again checking number of NaN values:\n",
    "census[\"Marital Status\"].isna().sum()"
   ]
  },
  {
   "cell_type": "code",
   "execution_count": 23,
   "id": "17c76b59-7eeb-4ec4-ae5e-6f64de74adb5",
   "metadata": {},
   "outputs": [
    {
     "data": {
      "text/plain": [
       "array(['Widowed', 'Single', 'Married', 'Divorced', ' '], dtype=object)"
      ]
     },
     "execution_count": 23,
     "metadata": {},
     "output_type": "execute_result"
    }
   ],
   "source": [
    "# checking unique values for marital status:\n",
    "census[\"Marital Status\"].unique()"
   ]
  },
  {
   "cell_type": "code",
   "execution_count": 24,
   "id": "a850fc54-2057-49a6-ac85-d32d61dc6896",
   "metadata": {},
   "outputs": [],
   "source": [
    "# Replace empty strings with NaN\n",
    "census['Marital Status'] = census['Marital Status'].replace(' ', np.nan)\n",
    "\n",
    "# Fill the NaN values with a default value (e.g., 'Unknown')\n",
    "census['Marital Status'] = census['Marital Status'].fillna('Unknown')"
   ]
  },
  {
   "cell_type": "code",
   "execution_count": 25,
   "id": "7d291944-9bf5-412e-8d65-2644f806d095",
   "metadata": {},
   "outputs": [
    {
     "data": {
      "text/plain": [
       "array(['Widowed', 'Single', 'Married', 'Divorced', 'Unknown'],\n",
       "      dtype=object)"
      ]
     },
     "execution_count": 25,
     "metadata": {},
     "output_type": "execute_result"
    }
   ],
   "source": [
    "# Again Checking Empty Strings:\n",
    "census[\"Marital Status\"].unique()"
   ]
  },
  {
   "cell_type": "markdown",
   "id": "b8278afc-643d-40dc-ad3a-0982e42ba075",
   "metadata": {},
   "source": [
    "# Cleaning and Filling Religion:"
   ]
  },
  {
   "cell_type": "code",
   "execution_count": 26,
   "id": "c1da07f1-494a-4a8d-b44e-5a3be040ee63",
   "metadata": {},
   "outputs": [
    {
     "data": {
      "text/plain": [
       "5995"
      ]
     },
     "execution_count": 26,
     "metadata": {},
     "output_type": "execute_result"
    }
   ],
   "source": [
    "# checking number of NaN values:\n",
    "census[\"Religion\"].isna().sum()"
   ]
  },
  {
   "cell_type": "code",
   "execution_count": 27,
   "id": "be9ef0fd-a3a3-45c3-8eb8-127ecbfe90a9",
   "metadata": {},
   "outputs": [],
   "source": [
    "# Define a funtion to fill missing 'Religion' values:\n",
    "\n",
    "def filling_religion(row, group_data):\n",
    "    # check if the 'Religion value is missing for the current row'\n",
    "    if pd.isna(row['Religion']):\n",
    "        #house_street_group contains value with the same 'House number' and 'street '\n",
    "        house_street_group = group_data.get_group((row['House Number'], row['Street']))\n",
    "\n",
    "        #religions variable contains unique non-null 'Religion' values having the same 'House Number' and 'Street' \n",
    "        religions = house_street_group['Religion'].dropna().unique()\n",
    "        \n",
    "\n",
    "        # If there's only one unique religion within house_street_group, return it; otherwise, return 'unknown'\n",
    "        if len(religions) == 1:\n",
    "            return religions[0]\n",
    "        else:\n",
    "            return 'Undecided'\n",
    "\n",
    "        # If the religion value is not missing , return the religion\n",
    "    else:\n",
    "        return row['Religion']\n",
    "\n",
    "# group the data by 'Street Number' and 'Street Name'\n",
    "group_data = census.groupby(['House Number' , 'Street'])\n",
    "\n",
    "#Apply the 'fill_missing_religion' function to fill in missing 'Religion' values\n",
    "census['Religion'] = census.apply(lambda row: filling_religion(row, group_data), axis = 1)"
   ]
  },
  {
   "cell_type": "code",
   "execution_count": 28,
   "id": "7ced71a9-a675-4c7d-b991-c136b07e667b",
   "metadata": {},
   "outputs": [
    {
     "data": {
      "text/plain": [
       "0"
      ]
     },
     "execution_count": 28,
     "metadata": {},
     "output_type": "execute_result"
    }
   ],
   "source": [
    "#Again Checking NaN Values:\n",
    "census[\"Religion\"].isna().sum()"
   ]
  },
  {
   "cell_type": "code",
   "execution_count": 29,
   "id": "e5af7fa7-298b-4522-ab60-29ae3787692c",
   "metadata": {},
   "outputs": [
    {
     "data": {
      "text/plain": [
       "array(['Christian', 'Undecided', 'Catholic', 'Methodist', 'Muslim',\n",
       "       'Jewish', 'Sikh', 'Pagan', 'Agnostic', 'Bahai', ' ', 'Scientology',\n",
       "       'Nope', 'Secular'], dtype=object)"
      ]
     },
     "execution_count": 29,
     "metadata": {},
     "output_type": "execute_result"
    }
   ],
   "source": [
    "# checking unique values  for Religion:\n",
    "census[\"Religion\"].unique()"
   ]
  },
  {
   "cell_type": "code",
   "execution_count": 30,
   "id": "f2c8d68d-e2c8-4c91-912a-7dfd923eef47",
   "metadata": {},
   "outputs": [],
   "source": [
    "# Replace empty strings with NaN\n",
    "census['Religion'] = census['Religion'].replace(' ', np.nan)\n",
    "\n",
    "# Fill the NaN values with a default value (e.g., 'Unknown')\n",
    "census['Religion'] = census['Religion'].fillna('Undecided')"
   ]
  },
  {
   "cell_type": "code",
   "execution_count": 31,
   "id": "cba6cc1f-6379-43a8-8bfd-159cf5015873",
   "metadata": {},
   "outputs": [
    {
     "data": {
      "text/plain": [
       "array(['Christian', 'Undecided', 'Catholic', 'Methodist', 'Muslim',\n",
       "       'Jewish', 'Sikh', 'Pagan', 'Agnostic', 'Bahai', 'Scientology',\n",
       "       'Nope', 'Secular'], dtype=object)"
      ]
     },
     "execution_count": 31,
     "metadata": {},
     "output_type": "execute_result"
    }
   ],
   "source": [
    "# Again checking unique values for Religion:\n",
    "census[\"Religion\"].unique()"
   ]
  },
  {
   "cell_type": "code",
   "execution_count": 32,
   "id": "4056569a-ef21-4b69-a7b0-b7408fa4b976",
   "metadata": {},
   "outputs": [],
   "source": [
    "# Nope and Undecided means the same so replace Nope with Undecided\n",
    "\n",
    "census['Religion'] = census['Religion'].replace('Nope', 'Undecided')\n"
   ]
  },
  {
   "cell_type": "code",
   "execution_count": 33,
   "id": "09128e13-1fe6-4b7b-84bd-1cff6c674716",
   "metadata": {},
   "outputs": [
    {
     "data": {
      "text/plain": [
       "array(['Christian', 'Undecided', 'Catholic', 'Methodist', 'Muslim',\n",
       "       'Jewish', 'Sikh', 'Pagan', 'Agnostic', 'Bahai', 'Scientology',\n",
       "       'Secular'], dtype=object)"
      ]
     },
     "execution_count": 33,
     "metadata": {},
     "output_type": "execute_result"
    }
   ],
   "source": [
    "# Again checking unique values for Religion:\n",
    "census[\"Religion\"].unique()"
   ]
  },
  {
   "cell_type": "markdown",
   "id": "7ffed945-bc3f-44af-9e7a-5d54aea608fb",
   "metadata": {},
   "source": [
    "# Cleaning and Filling Infirmity:"
   ]
  },
  {
   "cell_type": "code",
   "execution_count": 34,
   "id": "4483649a-0c86-4b04-a951-55e657c4098f",
   "metadata": {},
   "outputs": [
    {
     "data": {
      "text/plain": [
       "10034"
      ]
     },
     "execution_count": 34,
     "metadata": {},
     "output_type": "execute_result"
    }
   ],
   "source": [
    "# checking number of NaN values:\n",
    "census[\"Infirmity\"].isna().sum()"
   ]
  },
  {
   "cell_type": "code",
   "execution_count": 35,
   "id": "afc76bf3-87a3-4ef9-a238-1287a4be3052",
   "metadata": {},
   "outputs": [],
   "source": [
    "# Fill the missing values in the 'Infirmity' column with 'Unknown'\n",
    "census['Infirmity'] = census['Infirmity'].fillna('Unknown')"
   ]
  },
  {
   "cell_type": "code",
   "execution_count": 36,
   "id": "0cbecc65-d322-45fe-bd5e-9fdfde8377a2",
   "metadata": {},
   "outputs": [
    {
     "data": {
      "text/plain": [
       "array(['Unknown', 'Disabled', 'Blind', 'Mental Disability', 'Deaf', ' ',\n",
       "       'Physical Disability', 'Unknown Infection'], dtype=object)"
      ]
     },
     "execution_count": 36,
     "metadata": {},
     "output_type": "execute_result"
    }
   ],
   "source": [
    "# checking unique values for Infirmity:\n",
    "census[\"Infirmity\"].unique()"
   ]
  },
  {
   "cell_type": "code",
   "execution_count": 37,
   "id": "6b8e2362-e5f7-4a2c-be06-94eacc801fd0",
   "metadata": {},
   "outputs": [
    {
     "data": {
      "text/plain": [
       "Infirmity\n",
       "Unknown                10034\n",
       "Physical Disability       19\n",
       "Blind                     15\n",
       "Deaf                      13\n",
       "Disabled                  10\n",
       "                          10\n",
       "Unknown Infection         10\n",
       "Mental Disability          7\n",
       "Name: count, dtype: int64"
      ]
     },
     "execution_count": 37,
     "metadata": {},
     "output_type": "execute_result"
    }
   ],
   "source": [
    "census[\"Infirmity\"].value_counts()"
   ]
  },
  {
   "cell_type": "code",
   "execution_count": 38,
   "id": "3ef1c39a-ca77-4ae4-99bd-dde0a648d552",
   "metadata": {},
   "outputs": [
    {
     "data": {
      "text/plain": [
       "0"
      ]
     },
     "execution_count": 38,
     "metadata": {},
     "output_type": "execute_result"
    }
   ],
   "source": [
    "# Again checking number of NaN values:\n",
    "census[\"Infirmity\"].isna().sum()"
   ]
  },
  {
   "cell_type": "code",
   "execution_count": 39,
   "id": "9429fad0-5ba7-4f6f-b20e-cd3044e76576",
   "metadata": {},
   "outputs": [],
   "source": [
    "# Replace empty strings with NaN\n",
    "census['Infirmity'] = census['Infirmity'].replace(' ', np.nan)\n",
    "\n",
    "# Fill the NaN values with a default value (e.g., 'Unknown')\n",
    "census['Infirmity'] = census['Infirmity'].fillna('Unknown')"
   ]
  },
  {
   "cell_type": "code",
   "execution_count": 40,
   "id": "a97a1fc2-1117-409e-bb15-bb72e606a5ed",
   "metadata": {},
   "outputs": [
    {
     "data": {
      "text/plain": [
       "array(['Unknown', 'Disabled', 'Blind', 'Mental Disability', 'Deaf',\n",
       "       'Physical Disability', 'Unknown Infection'], dtype=object)"
      ]
     },
     "execution_count": 40,
     "metadata": {},
     "output_type": "execute_result"
    }
   ],
   "source": [
    "# Again checking unique values for Religion:\n",
    "census[\"Infirmity\"].unique()"
   ]
  },
  {
   "cell_type": "markdown",
   "id": "ad87c3b6-6249-47ab-923a-99e45c80fa25",
   "metadata": {},
   "source": [
    "# Checking House Number Column"
   ]
  },
  {
   "cell_type": "code",
   "execution_count": 41,
   "id": "c77791ed-c667-4a69-9736-312f73da05b4",
   "metadata": {},
   "outputs": [
    {
     "data": {
      "text/html": [
       "<div>\n",
       "<style scoped>\n",
       "    .dataframe tbody tr th:only-of-type {\n",
       "        vertical-align: middle;\n",
       "    }\n",
       "\n",
       "    .dataframe tbody tr th {\n",
       "        vertical-align: top;\n",
       "    }\n",
       "\n",
       "    .dataframe thead th {\n",
       "        text-align: right;\n",
       "    }\n",
       "</style>\n",
       "<table border=\"1\" class=\"dataframe\">\n",
       "  <thead>\n",
       "    <tr style=\"text-align: right;\">\n",
       "      <th></th>\n",
       "      <th>House Number</th>\n",
       "      <th>Street</th>\n",
       "      <th>First Name</th>\n",
       "      <th>Surname</th>\n",
       "      <th>Age</th>\n",
       "      <th>Relationship to Head of House</th>\n",
       "      <th>Marital Status</th>\n",
       "      <th>Gender</th>\n",
       "      <th>Occupation</th>\n",
       "      <th>Infirmity</th>\n",
       "      <th>Religion</th>\n",
       "    </tr>\n",
       "  </thead>\n",
       "  <tbody>\n",
       "  </tbody>\n",
       "</table>\n",
       "</div>"
      ],
      "text/plain": [
       "Empty DataFrame\n",
       "Columns: [House Number, Street, First Name, Surname, Age, Relationship to Head of House, Marital Status, Gender, Occupation, Infirmity, Religion]\n",
       "Index: []"
      ]
     },
     "execution_count": 41,
     "metadata": {},
     "output_type": "execute_result"
    }
   ],
   "source": [
    "# Extract Empty string in House Number\n",
    "census[census[\"House Number\"] == \" \"]"
   ]
  },
  {
   "cell_type": "markdown",
   "id": "3eccb4e9-2024-4145-9db0-c81266548953",
   "metadata": {},
   "source": [
    "# Checking Street Column"
   ]
  },
  {
   "cell_type": "code",
   "execution_count": 42,
   "id": "1a2484d4-e395-4c47-8e2f-ecd9f935ce77",
   "metadata": {},
   "outputs": [
    {
     "data": {
      "text/html": [
       "<div>\n",
       "<style scoped>\n",
       "    .dataframe tbody tr th:only-of-type {\n",
       "        vertical-align: middle;\n",
       "    }\n",
       "\n",
       "    .dataframe tbody tr th {\n",
       "        vertical-align: top;\n",
       "    }\n",
       "\n",
       "    .dataframe thead th {\n",
       "        text-align: right;\n",
       "    }\n",
       "</style>\n",
       "<table border=\"1\" class=\"dataframe\">\n",
       "  <thead>\n",
       "    <tr style=\"text-align: right;\">\n",
       "      <th></th>\n",
       "      <th>House Number</th>\n",
       "      <th>Street</th>\n",
       "      <th>First Name</th>\n",
       "      <th>Surname</th>\n",
       "      <th>Age</th>\n",
       "      <th>Relationship to Head of House</th>\n",
       "      <th>Marital Status</th>\n",
       "      <th>Gender</th>\n",
       "      <th>Occupation</th>\n",
       "      <th>Infirmity</th>\n",
       "      <th>Religion</th>\n",
       "    </tr>\n",
       "  </thead>\n",
       "  <tbody>\n",
       "  </tbody>\n",
       "</table>\n",
       "</div>"
      ],
      "text/plain": [
       "Empty DataFrame\n",
       "Columns: [House Number, Street, First Name, Surname, Age, Relationship to Head of House, Marital Status, Gender, Occupation, Infirmity, Religion]\n",
       "Index: []"
      ]
     },
     "execution_count": 42,
     "metadata": {},
     "output_type": "execute_result"
    }
   ],
   "source": [
    "# Extract Empty string in Street\n",
    "census[census[\"Street\"] == \" \"]"
   ]
  },
  {
   "cell_type": "markdown",
   "id": "feb424e1-e789-421b-9b17-64b8bb92d648",
   "metadata": {},
   "source": [
    "# Checking First Name Column"
   ]
  },
  {
   "cell_type": "code",
   "execution_count": 43,
   "id": "621aeaea-510b-4be6-ba46-4e50db810b0a",
   "metadata": {},
   "outputs": [
    {
     "data": {
      "text/html": [
       "<div>\n",
       "<style scoped>\n",
       "    .dataframe tbody tr th:only-of-type {\n",
       "        vertical-align: middle;\n",
       "    }\n",
       "\n",
       "    .dataframe tbody tr th {\n",
       "        vertical-align: top;\n",
       "    }\n",
       "\n",
       "    .dataframe thead th {\n",
       "        text-align: right;\n",
       "    }\n",
       "</style>\n",
       "<table border=\"1\" class=\"dataframe\">\n",
       "  <thead>\n",
       "    <tr style=\"text-align: right;\">\n",
       "      <th></th>\n",
       "      <th>House Number</th>\n",
       "      <th>Street</th>\n",
       "      <th>First Name</th>\n",
       "      <th>Surname</th>\n",
       "      <th>Age</th>\n",
       "      <th>Relationship to Head of House</th>\n",
       "      <th>Marital Status</th>\n",
       "      <th>Gender</th>\n",
       "      <th>Occupation</th>\n",
       "      <th>Infirmity</th>\n",
       "      <th>Religion</th>\n",
       "    </tr>\n",
       "  </thead>\n",
       "  <tbody>\n",
       "  </tbody>\n",
       "</table>\n",
       "</div>"
      ],
      "text/plain": [
       "Empty DataFrame\n",
       "Columns: [House Number, Street, First Name, Surname, Age, Relationship to Head of House, Marital Status, Gender, Occupation, Infirmity, Religion]\n",
       "Index: []"
      ]
     },
     "execution_count": 43,
     "metadata": {},
     "output_type": "execute_result"
    }
   ],
   "source": [
    "# Extract Empty string in First Name\n",
    "census[census[\"First Name\"] == \" \"]"
   ]
  },
  {
   "cell_type": "markdown",
   "id": "697ecd38-5190-48e6-871b-6a49998a4674",
   "metadata": {},
   "source": [
    "# Checking Surname Column"
   ]
  },
  {
   "cell_type": "code",
   "execution_count": 44,
   "id": "514e8c3b-6fbe-47de-a18f-561c167d215a",
   "metadata": {},
   "outputs": [
    {
     "data": {
      "text/html": [
       "<div>\n",
       "<style scoped>\n",
       "    .dataframe tbody tr th:only-of-type {\n",
       "        vertical-align: middle;\n",
       "    }\n",
       "\n",
       "    .dataframe tbody tr th {\n",
       "        vertical-align: top;\n",
       "    }\n",
       "\n",
       "    .dataframe thead th {\n",
       "        text-align: right;\n",
       "    }\n",
       "</style>\n",
       "<table border=\"1\" class=\"dataframe\">\n",
       "  <thead>\n",
       "    <tr style=\"text-align: right;\">\n",
       "      <th></th>\n",
       "      <th>House Number</th>\n",
       "      <th>Street</th>\n",
       "      <th>First Name</th>\n",
       "      <th>Surname</th>\n",
       "      <th>Age</th>\n",
       "      <th>Relationship to Head of House</th>\n",
       "      <th>Marital Status</th>\n",
       "      <th>Gender</th>\n",
       "      <th>Occupation</th>\n",
       "      <th>Infirmity</th>\n",
       "      <th>Religion</th>\n",
       "    </tr>\n",
       "  </thead>\n",
       "  <tbody>\n",
       "    <tr>\n",
       "      <th>1152</th>\n",
       "      <td>27</td>\n",
       "      <td>Whittaker Crescent</td>\n",
       "      <td>Harry</td>\n",
       "      <td></td>\n",
       "      <td>26</td>\n",
       "      <td>Husband</td>\n",
       "      <td>Married</td>\n",
       "      <td>Male</td>\n",
       "      <td>Charity officer</td>\n",
       "      <td>Unknown</td>\n",
       "      <td>Undecided</td>\n",
       "    </tr>\n",
       "    <tr>\n",
       "      <th>4251</th>\n",
       "      <td>12</td>\n",
       "      <td>Clementine Forest</td>\n",
       "      <td>Lesley</td>\n",
       "      <td></td>\n",
       "      <td>64</td>\n",
       "      <td>Wife</td>\n",
       "      <td>Married</td>\n",
       "      <td>Female</td>\n",
       "      <td>Forensic scientist</td>\n",
       "      <td>Deaf</td>\n",
       "      <td>Christian</td>\n",
       "    </tr>\n",
       "    <tr>\n",
       "      <th>8240</th>\n",
       "      <td>121</td>\n",
       "      <td>O'Connor Crossroad</td>\n",
       "      <td>Irene</td>\n",
       "      <td></td>\n",
       "      <td>75</td>\n",
       "      <td>Daughter</td>\n",
       "      <td>Divorced</td>\n",
       "      <td>Female</td>\n",
       "      <td>Retired Magazine journalist</td>\n",
       "      <td>Unknown</td>\n",
       "      <td>Muslim</td>\n",
       "    </tr>\n",
       "  </tbody>\n",
       "</table>\n",
       "</div>"
      ],
      "text/plain": [
       "      House Number              Street First Name Surname  Age  \\\n",
       "1152            27  Whittaker Crescent      Harry           26   \n",
       "4251            12   Clementine Forest     Lesley           64   \n",
       "8240           121  O'Connor Crossroad      Irene           75   \n",
       "\n",
       "     Relationship to Head of House Marital Status  Gender  \\\n",
       "1152                       Husband        Married    Male   \n",
       "4251                          Wife        Married  Female   \n",
       "8240                      Daughter       Divorced  Female   \n",
       "\n",
       "                       Occupation Infirmity   Religion  \n",
       "1152              Charity officer   Unknown  Undecided  \n",
       "4251           Forensic scientist      Deaf  Christian  \n",
       "8240  Retired Magazine journalist   Unknown     Muslim  "
      ]
     },
     "execution_count": 44,
     "metadata": {},
     "output_type": "execute_result"
    }
   ],
   "source": [
    "# Extract Empty string in Surname\n",
    "census[census[\"Surname\"] == \" \"]"
   ]
  },
  {
   "cell_type": "code",
   "execution_count": 45,
   "id": "661768fd-ea6d-4e82-a7d5-d436914289ec",
   "metadata": {},
   "outputs": [],
   "source": [
    "# Now we fill the surname column based on House Number and Street\n",
    "census['Surname'] = census.groupby(['House Number', 'Street'])['Surname'].transform('first')"
   ]
  },
  {
   "cell_type": "code",
   "execution_count": 46,
   "id": "f16fcff0-96fc-4f7f-9cdd-453c9768ed97",
   "metadata": {},
   "outputs": [
    {
     "data": {
      "text/html": [
       "<div>\n",
       "<style scoped>\n",
       "    .dataframe tbody tr th:only-of-type {\n",
       "        vertical-align: middle;\n",
       "    }\n",
       "\n",
       "    .dataframe tbody tr th {\n",
       "        vertical-align: top;\n",
       "    }\n",
       "\n",
       "    .dataframe thead th {\n",
       "        text-align: right;\n",
       "    }\n",
       "</style>\n",
       "<table border=\"1\" class=\"dataframe\">\n",
       "  <thead>\n",
       "    <tr style=\"text-align: right;\">\n",
       "      <th></th>\n",
       "      <th>House Number</th>\n",
       "      <th>Street</th>\n",
       "      <th>First Name</th>\n",
       "      <th>Surname</th>\n",
       "      <th>Age</th>\n",
       "      <th>Relationship to Head of House</th>\n",
       "      <th>Marital Status</th>\n",
       "      <th>Gender</th>\n",
       "      <th>Occupation</th>\n",
       "      <th>Infirmity</th>\n",
       "      <th>Religion</th>\n",
       "    </tr>\n",
       "  </thead>\n",
       "  <tbody>\n",
       "  </tbody>\n",
       "</table>\n",
       "</div>"
      ],
      "text/plain": [
       "Empty DataFrame\n",
       "Columns: [House Number, Street, First Name, Surname, Age, Relationship to Head of House, Marital Status, Gender, Occupation, Infirmity, Religion]\n",
       "Index: []"
      ]
     },
     "execution_count": 46,
     "metadata": {},
     "output_type": "execute_result"
    }
   ],
   "source": [
    "# Extract Empty rows in Surname\n",
    "census[census[\"Surname\"] == \" \"]"
   ]
  },
  {
   "cell_type": "markdown",
   "id": "161a4ef6-4085-4eef-801e-a1ddc7dbde6d",
   "metadata": {},
   "source": [
    "# Checking Age Column"
   ]
  },
  {
   "cell_type": "code",
   "execution_count": 47,
   "id": "025381e5-e169-45c5-8a14-ca4aa05c1393",
   "metadata": {},
   "outputs": [
    {
     "data": {
      "text/html": [
       "<div>\n",
       "<style scoped>\n",
       "    .dataframe tbody tr th:only-of-type {\n",
       "        vertical-align: middle;\n",
       "    }\n",
       "\n",
       "    .dataframe tbody tr th {\n",
       "        vertical-align: top;\n",
       "    }\n",
       "\n",
       "    .dataframe thead th {\n",
       "        text-align: right;\n",
       "    }\n",
       "</style>\n",
       "<table border=\"1\" class=\"dataframe\">\n",
       "  <thead>\n",
       "    <tr style=\"text-align: right;\">\n",
       "      <th></th>\n",
       "      <th>House Number</th>\n",
       "      <th>Street</th>\n",
       "      <th>First Name</th>\n",
       "      <th>Surname</th>\n",
       "      <th>Age</th>\n",
       "      <th>Relationship to Head of House</th>\n",
       "      <th>Marital Status</th>\n",
       "      <th>Gender</th>\n",
       "      <th>Occupation</th>\n",
       "      <th>Infirmity</th>\n",
       "      <th>Religion</th>\n",
       "    </tr>\n",
       "  </thead>\n",
       "  <tbody>\n",
       "  </tbody>\n",
       "</table>\n",
       "</div>"
      ],
      "text/plain": [
       "Empty DataFrame\n",
       "Columns: [House Number, Street, First Name, Surname, Age, Relationship to Head of House, Marital Status, Gender, Occupation, Infirmity, Religion]\n",
       "Index: []"
      ]
     },
     "execution_count": 47,
     "metadata": {},
     "output_type": "execute_result"
    }
   ],
   "source": [
    "# Extract Empty string in Age\n",
    "census[census[\"Age\"] == \" \"]"
   ]
  },
  {
   "cell_type": "code",
   "execution_count": 48,
   "id": "ffa76054-f2ee-42d5-9dcf-729b8c4d1665",
   "metadata": {},
   "outputs": [
    {
     "data": {
      "text/plain": [
       "array([ 77,  79,  55,  35,  42,   3,  80,  12,  76,  46,  27,   2,  54,\n",
       "         1,  70,  72,  34,  68,  40,  37,  48,  38,   8,  75,  67,  89,\n",
       "        88,  64,   0,  49,  22,  59,  36,  44,  60,  11,  23,  29,  58,\n",
       "        50,  20,  21,  17,  14,  33,  10,  31,  47,  16,  19,  41,  43,\n",
       "         5,  57,   9,  28,  32,  45,  53,  15,  39,  30,  78,  63,  51,\n",
       "        52,  74,  18,  66,  69,  83,  86,  25,  24,  62,  13,  81,   4,\n",
       "        73,   6,  61,  26,  56,  65,   7,  82,  84,  87,  92,  90,  71,\n",
       "       105,  85, 106,  99,  97,  96, 103, 104, 108,  91, 102,  94,  95,\n",
       "        98, 101, 109, 111, 120,  93], dtype=int64)"
      ]
     },
     "execution_count": 48,
     "metadata": {},
     "output_type": "execute_result"
    }
   ],
   "source": [
    "# checking unique values for Age:\n",
    "census[\"Age\"].unique()"
   ]
  },
  {
   "cell_type": "markdown",
   "id": "6ab82f40-4cfa-4f34-8e8e-e1b099dbf531",
   "metadata": {},
   "source": [
    "# Checking Gender Column"
   ]
  },
  {
   "cell_type": "code",
   "execution_count": 49,
   "id": "a1769a00-1d66-44c3-a08f-af6dbdd1aa94",
   "metadata": {},
   "outputs": [
    {
     "data": {
      "text/plain": [
       "array(['Male', 'Female', ' '], dtype=object)"
      ]
     },
     "execution_count": 49,
     "metadata": {},
     "output_type": "execute_result"
    }
   ],
   "source": [
    "# checking unique values for Gender:\n",
    "census[\"Gender\"].unique()"
   ]
  },
  {
   "cell_type": "code",
   "execution_count": 50,
   "id": "59177f9d-c088-4538-a075-666ae00e218d",
   "metadata": {},
   "outputs": [
    {
     "data": {
      "text/html": [
       "<div>\n",
       "<style scoped>\n",
       "    .dataframe tbody tr th:only-of-type {\n",
       "        vertical-align: middle;\n",
       "    }\n",
       "\n",
       "    .dataframe tbody tr th {\n",
       "        vertical-align: top;\n",
       "    }\n",
       "\n",
       "    .dataframe thead th {\n",
       "        text-align: right;\n",
       "    }\n",
       "</style>\n",
       "<table border=\"1\" class=\"dataframe\">\n",
       "  <thead>\n",
       "    <tr style=\"text-align: right;\">\n",
       "      <th></th>\n",
       "      <th>House Number</th>\n",
       "      <th>Street</th>\n",
       "      <th>First Name</th>\n",
       "      <th>Surname</th>\n",
       "      <th>Age</th>\n",
       "      <th>Relationship to Head of House</th>\n",
       "      <th>Marital Status</th>\n",
       "      <th>Gender</th>\n",
       "      <th>Occupation</th>\n",
       "      <th>Infirmity</th>\n",
       "      <th>Religion</th>\n",
       "    </tr>\n",
       "  </thead>\n",
       "  <tbody>\n",
       "    <tr>\n",
       "      <th>273</th>\n",
       "      <td>7</td>\n",
       "      <td>Kraken Road</td>\n",
       "      <td>Dale</td>\n",
       "      <td>Powell</td>\n",
       "      <td>79</td>\n",
       "      <td>Head</td>\n",
       "      <td>Married</td>\n",
       "      <td></td>\n",
       "      <td>Retired TEFL teacher</td>\n",
       "      <td>Unknown</td>\n",
       "      <td>Undecided</td>\n",
       "    </tr>\n",
       "  </tbody>\n",
       "</table>\n",
       "</div>"
      ],
      "text/plain": [
       "     House Number       Street First Name Surname  Age  \\\n",
       "273             7  Kraken Road       Dale  Powell   79   \n",
       "\n",
       "    Relationship to Head of House Marital Status Gender            Occupation  \\\n",
       "273                          Head        Married         Retired TEFL teacher   \n",
       "\n",
       "    Infirmity   Religion  \n",
       "273   Unknown  Undecided  "
      ]
     },
     "execution_count": 50,
     "metadata": {},
     "output_type": "execute_result"
    }
   ],
   "source": [
    "# Extract Empty rows in Gender\n",
    "census[census[\"Gender\"] == \" \"]"
   ]
  },
  {
   "cell_type": "code",
   "execution_count": 51,
   "id": "1523bbaf-be2a-4577-ae70-eec934a45566",
   "metadata": {},
   "outputs": [
    {
     "data": {
      "text/html": [
       "<div>\n",
       "<style scoped>\n",
       "    .dataframe tbody tr th:only-of-type {\n",
       "        vertical-align: middle;\n",
       "    }\n",
       "\n",
       "    .dataframe tbody tr th {\n",
       "        vertical-align: top;\n",
       "    }\n",
       "\n",
       "    .dataframe thead th {\n",
       "        text-align: right;\n",
       "    }\n",
       "</style>\n",
       "<table border=\"1\" class=\"dataframe\">\n",
       "  <thead>\n",
       "    <tr style=\"text-align: right;\">\n",
       "      <th></th>\n",
       "      <th>House Number</th>\n",
       "      <th>Street</th>\n",
       "      <th>First Name</th>\n",
       "      <th>Surname</th>\n",
       "      <th>Age</th>\n",
       "      <th>Relationship to Head of House</th>\n",
       "      <th>Marital Status</th>\n",
       "      <th>Gender</th>\n",
       "      <th>Occupation</th>\n",
       "      <th>Infirmity</th>\n",
       "      <th>Religion</th>\n",
       "    </tr>\n",
       "  </thead>\n",
       "  <tbody>\n",
       "    <tr>\n",
       "      <th>273</th>\n",
       "      <td>7</td>\n",
       "      <td>Kraken Road</td>\n",
       "      <td>Dale</td>\n",
       "      <td>Powell</td>\n",
       "      <td>79</td>\n",
       "      <td>Head</td>\n",
       "      <td>Married</td>\n",
       "      <td></td>\n",
       "      <td>Retired TEFL teacher</td>\n",
       "      <td>Unknown</td>\n",
       "      <td>Undecided</td>\n",
       "    </tr>\n",
       "    <tr>\n",
       "      <th>274</th>\n",
       "      <td>7</td>\n",
       "      <td>Kraken Road</td>\n",
       "      <td>Jessica</td>\n",
       "      <td>Powell</td>\n",
       "      <td>78</td>\n",
       "      <td>Wife</td>\n",
       "      <td>Married</td>\n",
       "      <td>Female</td>\n",
       "      <td>Retired Journalist, newspaper</td>\n",
       "      <td>Unknown</td>\n",
       "      <td>Undecided</td>\n",
       "    </tr>\n",
       "  </tbody>\n",
       "</table>\n",
       "</div>"
      ],
      "text/plain": [
       "     House Number       Street First Name Surname  Age  \\\n",
       "273             7  Kraken Road       Dale  Powell   79   \n",
       "274             7  Kraken Road    Jessica  Powell   78   \n",
       "\n",
       "    Relationship to Head of House Marital Status  Gender  \\\n",
       "273                          Head        Married           \n",
       "274                          Wife        Married  Female   \n",
       "\n",
       "                        Occupation Infirmity   Religion  \n",
       "273           Retired TEFL teacher   Unknown  Undecided  \n",
       "274  Retired Journalist, newspaper   Unknown  Undecided  "
      ]
     },
     "execution_count": 51,
     "metadata": {},
     "output_type": "execute_result"
    }
   ],
   "source": [
    "#Extracting rows with same House Number and Street\n",
    "census[(census[\"House Number\"] == 7) & (census[\"Street\"] == \"Kraken Road\")]"
   ]
  },
  {
   "cell_type": "code",
   "execution_count": 52,
   "id": "e07ce887-0aab-494f-9a8d-bce5144a9867",
   "metadata": {},
   "outputs": [],
   "source": [
    "# census[\"Gender\"].str.strip() == \"\" checks for empty strings after stripping any leading or trailing whitespace. This ensures that empty strings with any additional whitespace are also identified\n",
    "census.loc[((census[\"House Number\"] == 7) & (census[\"Street\"] == \"Kraken Road\") & (census[\"Gender\"].str.strip() == \"\")), 'Gender'] = 'Male'"
   ]
  },
  {
   "cell_type": "code",
   "execution_count": 53,
   "id": "0535a219-19a3-42b6-9181-cfe5eb1fd176",
   "metadata": {},
   "outputs": [
    {
     "data": {
      "text/plain": [
       "array(['Male', 'Female'], dtype=object)"
      ]
     },
     "execution_count": 53,
     "metadata": {},
     "output_type": "execute_result"
    }
   ],
   "source": [
    "# checking unique values for Gender:\n",
    "census[\"Gender\"].unique()"
   ]
  },
  {
   "cell_type": "markdown",
   "id": "1d920b47-7366-4c77-8df2-bfb28716fb56",
   "metadata": {},
   "source": [
    "# Checking Occupation Column:"
   ]
  },
  {
   "cell_type": "code",
   "execution_count": 54,
   "id": "e058efc7-c3c9-4564-9dcc-643ba5acfa4d",
   "metadata": {},
   "outputs": [
    {
     "data": {
      "text/html": [
       "<div>\n",
       "<style scoped>\n",
       "    .dataframe tbody tr th:only-of-type {\n",
       "        vertical-align: middle;\n",
       "    }\n",
       "\n",
       "    .dataframe tbody tr th {\n",
       "        vertical-align: top;\n",
       "    }\n",
       "\n",
       "    .dataframe thead th {\n",
       "        text-align: right;\n",
       "    }\n",
       "</style>\n",
       "<table border=\"1\" class=\"dataframe\">\n",
       "  <thead>\n",
       "    <tr style=\"text-align: right;\">\n",
       "      <th></th>\n",
       "      <th>House Number</th>\n",
       "      <th>Street</th>\n",
       "      <th>First Name</th>\n",
       "      <th>Surname</th>\n",
       "      <th>Age</th>\n",
       "      <th>Relationship to Head of House</th>\n",
       "      <th>Marital Status</th>\n",
       "      <th>Gender</th>\n",
       "      <th>Occupation</th>\n",
       "      <th>Infirmity</th>\n",
       "      <th>Religion</th>\n",
       "    </tr>\n",
       "  </thead>\n",
       "  <tbody>\n",
       "  </tbody>\n",
       "</table>\n",
       "</div>"
      ],
      "text/plain": [
       "Empty DataFrame\n",
       "Columns: [House Number, Street, First Name, Surname, Age, Relationship to Head of House, Marital Status, Gender, Occupation, Infirmity, Religion]\n",
       "Index: []"
      ]
     },
     "execution_count": 54,
     "metadata": {},
     "output_type": "execute_result"
    }
   ],
   "source": [
    "# checking Empty String values for Occupation:\n",
    "census[census[\"Occupation\"] == \" \"]"
   ]
  },
  {
   "cell_type": "markdown",
   "id": "70a5ad11-ba93-46ad-9a52-e15ca1ce9e61",
   "metadata": {},
   "source": [
    "# Age Pyramid:"
   ]
  },
  {
   "cell_type": "code",
   "execution_count": 55,
   "id": "8b35151e-c7db-43ce-9109-20b91daebb9e",
   "metadata": {},
   "outputs": [
    {
     "name": "stdout",
     "output_type": "stream",
     "text": [
      "pyramid_data pd.cut          Age  Count  Gender\n",
      "0      70-79      1    Male\n",
      "1      70-79      1  Female\n",
      "2      50-59      1    Male\n",
      "3      30-39      1    Male\n",
      "4      40-49      1  Female\n",
      "...      ...    ...     ...\n",
      "10113    0-9      1    Male\n",
      "10114    0-9      1  Female\n",
      "10115    0-9      1    Male\n",
      "10116  50-59      1  Female\n",
      "10117  40-49      1  Female\n",
      "\n",
      "[10118 rows x 3 columns]\n"
     ]
    },
    {
     "data": {
      "image/png": "[encoded data removed]",
      "text/plain": [
       "<Figure size 800x600 with 1 Axes>"
      ]
     },
     "metadata": {},
     "output_type": "display_data"
    }
   ],
   "source": [
    " # Find the maximum age in the data\n",
    "max_age = census['Age'].max()\n",
    " \n",
    "# Split ages by gender\n",
    "male_ages = census[census['Gender'] == 'Male']['Age']\n",
    "female_ages = census[census['Gender'] == 'Female']['Age']\n",
    " \n",
    "# Define age groups as a list of bin edges\n",
    "age_groups = np.arange(0, max_age + 10, 10)\n",
    "  \n",
    "# Define age group labels\n",
    "age_class = [f'{i}-{j-1}' for i, j in zip(age_groups[:-1], age_groups[1:])]\n",
    "age_class[-1] = '100+'  # Set the last label to '100+'\n",
    "  \n",
    "# Create a DataFrame with age groups and counts\n",
    "pyramid_data = pd.DataFrame({'Age': pd.cut(census['Age'], bins=age_groups, labels=age_class, right=False, include_lowest=True),\n",
    "                              'Count': 1,\n",
    "                              'Gender': census['Gender']})\n",
    " \n",
    "print('pyramid_data pd.cut', pyramid_data)\n",
    " \n",
    "# Aggregate the counts by age group and gender\n",
    "pyramid_data = pyramid_data.groupby(['Age', 'Gender']).size().reset_index(name='Count')\n",
    " \n",
    "# Pivot the data to have gender as columns and age as rows\n",
    "pyramid_data = pyramid_data.pivot(index='Age', columns='Gender', values='Count').fillna(0)\n",
    "  \n",
    "# Convert female counts to negative values\n",
    "pyramid_data['Female'] = -pyramid_data['Female']\n",
    " \n",
    "# Replace NaN or infinite values with 0 (or any other desired value)\n",
    "pyramid_data = pyramid_data.replace([np.inf, -np.inf], 0)\n",
    " \n",
    "# Reverse the order of the age groups\n",
    "pyramid_data = pyramid_data.reindex(index=age_class[::-1])\n",
    " \n",
    "# Plot the population pyramid\n",
    "fig, ax = plt.subplots(figsize=(8, 6))\n",
    "sns.barplot(data=pyramid_data, x='Female', y=pyramid_data.index, color='purple', label='Female', orient='h', order=age_class[::-1])\n",
    "sns.barplot(data=pyramid_data, x='Male', y=pyramid_data.index, color='pink', label='Male', orient='h', order=age_class[::-1])\n",
    " \n",
    "# Customize the plot\n",
    "ax.set_xlabel('Count')\n",
    "ax.set_ylabel('Age')\n",
    "ax.set_title('Population Pyramid')\n",
    "ax.legend()\n",
    " \n",
    "# Set the x-axis limits to center the pyramid\n",
    "max_count = max(abs(pyramid_data['Female'].min()), pyramid_data['Male'].max())\n",
    "ax.set_xlim(-max_count * 1.1, max_count * 1.1)  # Add a 10% buffer on both sides\n",
    " \n",
    "plt.tight_layout()\n",
    "plt.show()\n",
    "\n",
    "fig.savefig('age_pyramid.png', bbox_inches='tight') "
   ]
  },
  {
   "cell_type": "code",
   "execution_count": 56,
   "id": "1edb73ce-3d6a-49a4-ac3e-3626f7d72fb8",
   "metadata": {},
   "outputs": [
    {
     "name": "stdout",
     "output_type": "stream",
     "text": [
      "Total population: 10117\n"
     ]
    }
   ],
   "source": [
    "total_population = pyramid_data['Male'].sum() + abs(pyramid_data['Female'].sum())\n",
    "print(f'Total population: {total_population}')"
   ]
  },
  {
   "cell_type": "code",
   "execution_count": 57,
   "id": "0d541f84-03bb-4218-9832-8871ae089f4a",
   "metadata": {},
   "outputs": [
    {
     "name": "stdout",
     "output_type": "stream",
     "text": [
      "Total population: 10117\n",
      "Total number of females: 5269 (52.08065632104378%)\n",
      "Total number of males: 4848 (47.91934367895621%)\n"
     ]
    }
   ],
   "source": [
    "total_population = pyramid_data['Male'].sum() + abs(pyramid_data['Female'].sum())\n",
    "total_females = abs(pyramid_data['Female'].sum())\n",
    "female_percentage = (total_females / total_population) * 100\n",
    "total_males = pyramid_data['Male'].sum()\n",
    "male_percentage = (total_males / total_population) * 100\n",
    "\n",
    "print(f'Total population: {total_population}')\n",
    "print(f'Total number of females: {total_females} ({female_percentage}%)')\n",
    "print(f'Total number of males: {total_males} ({male_percentage}%)')"
   ]
  },
  {
   "cell_type": "code",
   "execution_count": 58,
   "id": "c830650c-cb37-4b3f-8b9f-0e41d8716b02",
   "metadata": {},
   "outputs": [
    {
     "name": "stdout",
     "output_type": "stream",
     "text": [
      "The median age of the town is 34.0 years.\n"
     ]
    }
   ],
   "source": [
    "# Calculate the median age\n",
    "median_age = np.median(census['Age'])\n",
    "\n",
    "print(f'The median age of the town is {median_age} years.')"
   ]
  },
  {
   "cell_type": "markdown",
   "id": "51c436cb-0dc6-4e2c-aa3a-a5492640b55f",
   "metadata": {},
   "source": [
    "# Examine : Birth & Death Rate"
   ]
  },
  {
   "cell_type": "code",
   "execution_count": 84,
   "id": "3de9e471-3024-4999-bb38-631c17ec93de",
   "metadata": {},
   "outputs": [
    {
     "data": {
      "text/html": [
       "<div>\n",
       "<style scoped>\n",
       "    .dataframe tbody tr th:only-of-type {\n",
       "        vertical-align: middle;\n",
       "    }\n",
       "\n",
       "    .dataframe tbody tr th {\n",
       "        vertical-align: top;\n",
       "    }\n",
       "\n",
       "    .dataframe thead th {\n",
       "        text-align: right;\n",
       "    }\n",
       "</style>\n",
       "<table border=\"1\" class=\"dataframe\">\n",
       "  <thead>\n",
       "    <tr style=\"text-align: right;\">\n",
       "      <th></th>\n",
       "      <th>House Number</th>\n",
       "      <th>Street</th>\n",
       "      <th>First Name</th>\n",
       "      <th>Surname</th>\n",
       "      <th>Age</th>\n",
       "      <th>Relationship to Head of House</th>\n",
       "      <th>Marital Status</th>\n",
       "      <th>Gender</th>\n",
       "      <th>Occupation</th>\n",
       "      <th>Infirmity</th>\n",
       "      <th>Religion</th>\n",
       "    </tr>\n",
       "  </thead>\n",
       "  <tbody>\n",
       "    <tr>\n",
       "      <th>33</th>\n",
       "      <td>7</td>\n",
       "      <td>Lime Road</td>\n",
       "      <td>Stephen</td>\n",
       "      <td>Jones</td>\n",
       "      <td>0</td>\n",
       "      <td>Grandson</td>\n",
       "      <td>Single</td>\n",
       "      <td>Male</td>\n",
       "      <td>Child</td>\n",
       "      <td>Unknown</td>\n",
       "      <td>Christian</td>\n",
       "    </tr>\n",
       "    <tr>\n",
       "      <th>227</th>\n",
       "      <td>25</td>\n",
       "      <td>Kennedy Avenue</td>\n",
       "      <td>Ronald</td>\n",
       "      <td>Butler</td>\n",
       "      <td>0</td>\n",
       "      <td>Son</td>\n",
       "      <td>Single</td>\n",
       "      <td>Male</td>\n",
       "      <td>Child</td>\n",
       "      <td>Unknown</td>\n",
       "      <td>Methodist</td>\n",
       "    </tr>\n",
       "    <tr>\n",
       "      <th>416</th>\n",
       "      <td>32</td>\n",
       "      <td>Arnold Springs</td>\n",
       "      <td>Keith</td>\n",
       "      <td>Jones</td>\n",
       "      <td>0</td>\n",
       "      <td>Son</td>\n",
       "      <td>Single</td>\n",
       "      <td>Male</td>\n",
       "      <td>Child</td>\n",
       "      <td>Disabled</td>\n",
       "      <td>Undecided</td>\n",
       "    </tr>\n",
       "    <tr>\n",
       "      <th>502</th>\n",
       "      <td>29</td>\n",
       "      <td>Kraken Drive</td>\n",
       "      <td>Emily</td>\n",
       "      <td>Coates</td>\n",
       "      <td>0</td>\n",
       "      <td>Daughter</td>\n",
       "      <td>Single</td>\n",
       "      <td>Female</td>\n",
       "      <td>Child</td>\n",
       "      <td>Unknown</td>\n",
       "      <td>Undecided</td>\n",
       "    </tr>\n",
       "    <tr>\n",
       "      <th>524</th>\n",
       "      <td>36</td>\n",
       "      <td>Kraken Drive</td>\n",
       "      <td>Olivia</td>\n",
       "      <td>Briggs</td>\n",
       "      <td>0</td>\n",
       "      <td>Daughter</td>\n",
       "      <td>Single</td>\n",
       "      <td>Female</td>\n",
       "      <td>Child</td>\n",
       "      <td>Unknown</td>\n",
       "      <td>Christian</td>\n",
       "    </tr>\n",
       "    <tr>\n",
       "      <th>...</th>\n",
       "      <td>...</td>\n",
       "      <td>...</td>\n",
       "      <td>...</td>\n",
       "      <td>...</td>\n",
       "      <td>...</td>\n",
       "      <td>...</td>\n",
       "      <td>...</td>\n",
       "      <td>...</td>\n",
       "      <td>...</td>\n",
       "      <td>...</td>\n",
       "      <td>...</td>\n",
       "    </tr>\n",
       "    <tr>\n",
       "      <th>9471</th>\n",
       "      <td>5</td>\n",
       "      <td>Todd Trail</td>\n",
       "      <td>Emily</td>\n",
       "      <td>Roberts</td>\n",
       "      <td>0</td>\n",
       "      <td>Daughter</td>\n",
       "      <td>Single</td>\n",
       "      <td>Female</td>\n",
       "      <td>Child</td>\n",
       "      <td>Unknown</td>\n",
       "      <td>Catholic</td>\n",
       "    </tr>\n",
       "    <tr>\n",
       "      <th>9584</th>\n",
       "      <td>18</td>\n",
       "      <td>Estuary Roads</td>\n",
       "      <td>Vanessa</td>\n",
       "      <td>Patterson</td>\n",
       "      <td>0</td>\n",
       "      <td>Daughter</td>\n",
       "      <td>Single</td>\n",
       "      <td>Female</td>\n",
       "      <td>Child</td>\n",
       "      <td>Unknown</td>\n",
       "      <td>Christian</td>\n",
       "    </tr>\n",
       "    <tr>\n",
       "      <th>9894</th>\n",
       "      <td>6</td>\n",
       "      <td>Smith Mews</td>\n",
       "      <td>Frances</td>\n",
       "      <td>Richards</td>\n",
       "      <td>0</td>\n",
       "      <td>Daughter</td>\n",
       "      <td>Single</td>\n",
       "      <td>Female</td>\n",
       "      <td>Child</td>\n",
       "      <td>Unknown</td>\n",
       "      <td>Christian</td>\n",
       "    </tr>\n",
       "    <tr>\n",
       "      <th>10047</th>\n",
       "      <td>1</td>\n",
       "      <td>Edwards Lighthouse</td>\n",
       "      <td>Amy</td>\n",
       "      <td>Perry</td>\n",
       "      <td>0</td>\n",
       "      <td>Daughter</td>\n",
       "      <td>Single</td>\n",
       "      <td>Female</td>\n",
       "      <td>Child</td>\n",
       "      <td>Unknown</td>\n",
       "      <td>Catholic</td>\n",
       "    </tr>\n",
       "    <tr>\n",
       "      <th>10060</th>\n",
       "      <td>1</td>\n",
       "      <td>Waters Lodge</td>\n",
       "      <td>Shane</td>\n",
       "      <td>Evans</td>\n",
       "      <td>0</td>\n",
       "      <td>Step-Son</td>\n",
       "      <td>Single</td>\n",
       "      <td>Male</td>\n",
       "      <td>Child</td>\n",
       "      <td>Unknown</td>\n",
       "      <td>Undecided</td>\n",
       "    </tr>\n",
       "  </tbody>\n",
       "</table>\n",
       "<p>110 rows × 11 columns</p>\n",
       "</div>"
      ],
      "text/plain": [
       "       House Number              Street First Name    Surname  Age  \\\n",
       "33                7           Lime Road    Stephen      Jones    0   \n",
       "227              25      Kennedy Avenue     Ronald     Butler    0   \n",
       "416              32      Arnold Springs      Keith      Jones    0   \n",
       "502              29        Kraken Drive      Emily     Coates    0   \n",
       "524              36        Kraken Drive     Olivia     Briggs    0   \n",
       "...             ...                 ...        ...        ...  ...   \n",
       "9471              5          Todd Trail      Emily    Roberts    0   \n",
       "9584             18       Estuary Roads    Vanessa  Patterson    0   \n",
       "9894              6          Smith Mews    Frances   Richards    0   \n",
       "10047             1  Edwards Lighthouse        Amy      Perry    0   \n",
       "10060             1        Waters Lodge      Shane      Evans    0   \n",
       "\n",
       "      Relationship to Head of House Marital Status  Gender Occupation  \\\n",
       "33                         Grandson         Single    Male      Child   \n",
       "227                             Son         Single    Male      Child   \n",
       "416                             Son         Single    Male      Child   \n",
       "502                        Daughter         Single  Female      Child   \n",
       "524                        Daughter         Single  Female      Child   \n",
       "...                             ...            ...     ...        ...   \n",
       "9471                       Daughter         Single  Female      Child   \n",
       "9584                       Daughter         Single  Female      Child   \n",
       "9894                       Daughter         Single  Female      Child   \n",
       "10047                      Daughter         Single  Female      Child   \n",
       "10060                      Step-Son         Single    Male      Child   \n",
       "\n",
       "      Infirmity   Religion  \n",
       "33      Unknown  Christian  \n",
       "227     Unknown  Methodist  \n",
       "416    Disabled  Undecided  \n",
       "502     Unknown  Undecided  \n",
       "524     Unknown  Christian  \n",
       "...         ...        ...  \n",
       "9471    Unknown   Catholic  \n",
       "9584    Unknown  Christian  \n",
       "9894    Unknown  Christian  \n",
       "10047   Unknown   Catholic  \n",
       "10060   Unknown  Undecided  \n",
       "\n",
       "[110 rows x 11 columns]"
      ]
     },
     "execution_count": 84,
     "metadata": {},
     "output_type": "execute_result"
    }
   ],
   "source": [
    "# Extracting children aged 0 years\n",
    "census[census['Age'] == 0]"
   ]
  },
  {
   "cell_type": "code",
   "execution_count": 60,
   "id": "b6b7d207-4271-429c-b1e1-a50126d256eb",
   "metadata": {},
   "outputs": [
    {
     "data": {
      "text/plain": [
       "110"
      ]
     },
     "execution_count": 60,
     "metadata": {},
     "output_type": "execute_result"
    }
   ],
   "source": [
    "# Extracting children aged 0 years\n",
    "children_age_0 = census['Age'].value_counts()[0]\n",
    "children_age_0"
   ]
  },
  {
   "cell_type": "code",
   "execution_count": 61,
   "id": "ed8797f8-105f-4b2a-9a52-5f30f69a53ac",
   "metadata": {},
   "outputs": [
    {
     "data": {
      "text/plain": [
       "Age\n",
       "36     197\n",
       "19     188\n",
       "40     182\n",
       "22     180\n",
       "39     177\n",
       "      ... \n",
       "120      1\n",
       "106      1\n",
       "109      1\n",
       "95       1\n",
       "93       1\n",
       "Name: count, Length: 110, dtype: int64"
      ]
     },
     "execution_count": 61,
     "metadata": {},
     "output_type": "execute_result"
    }
   ],
   "source": [
    "census['Age'].value_counts()"
   ]
  },
  {
   "cell_type": "code",
   "execution_count": 62,
   "id": "b0f17b09-d1b9-470d-af51-0735d7389ef7",
   "metadata": {},
   "outputs": [
    {
     "data": {
      "text/plain": [
       "371"
      ]
     },
     "execution_count": 62,
     "metadata": {},
     "output_type": "execute_result"
    }
   ],
   "source": [
    "# Extracting women age between 25 to 29\n",
    "women_age_25_29 = census[(census['Age'] >= 25) & (census['Age'] <= 29)]['Gender'].value_counts()['Female']\n",
    "women_age_25_29"
   ]
  },
  {
   "cell_type": "code",
   "execution_count": 63,
   "id": "eafc3f70-1537-48d1-8dd0-851cd0219be5",
   "metadata": {},
   "outputs": [
    {
     "data": {
      "text/plain": [
       "29.649595687331537"
      ]
     },
     "execution_count": 63,
     "metadata": {},
     "output_type": "execute_result"
    }
   ],
   "source": [
    "# calculating birth percentage\n",
    "birth_percentage = children_age_0 / women_age_25_29\n",
    "birth_percentage * 100"
   ]
  },
  {
   "cell_type": "code",
   "execution_count": 64,
   "id": "4872c8d0-ff43-4139-aecd-7972853516b2",
   "metadata": {},
   "outputs": [
    {
     "name": "stdout",
     "output_type": "stream",
     "text": [
      "Estimated deaths for ages 56-65: 64\n",
      "Estimated deaths for ages 66-75: 63\n",
      "Overall death percentage: 8.85%\n"
     ]
    }
   ],
   "source": [
    "# calculating death percentage\n",
    "\n",
    "# Calculate the total population for ages 56-60\n",
    "people_age_56_60 = census[(census['Age'] >= 56) & (census['Age'] <= 60)]['Gender'].value_counts().sum()\n",
    "\n",
    "# Calculate the total population for ages 61-65\n",
    "people_age_61_65 = census[(census['Age'] >= 61) & (census['Age'] <= 65)]['Gender'].value_counts().sum()\n",
    "\n",
    "# Calculate the total population for ages 66-70\n",
    "people_age_66_70 = census[(census['Age'] >= 66) & (census['Age'] <= 70)]['Gender'].value_counts().sum()\n",
    "\n",
    "# Calculate the total population for ages 71-75\n",
    "people_age_71_75 = census[(census['Age'] >= 71) & (census['Age'] <= 75)]['Gender'].value_counts().sum()\n",
    "\n",
    "# Calculate the estimated deaths for ages 56-65\n",
    "estimated_deaths_56_65 = people_age_56_60 - people_age_61_65\n",
    "\n",
    "# Calculate the estimated deaths for ages 66-75\n",
    "estimated_deaths_66_75 = people_age_66_70 - people_age_71_75\n",
    "\n",
    "# Print the estimated deaths for ages 56-65\n",
    "print(f\"Estimated deaths for ages 56-65: {estimated_deaths_56_65}\")\n",
    "# Print the estimated deaths for ages 66-75\n",
    "print(f\"Estimated deaths for ages 66-75: {estimated_deaths_66_75}\")\n",
    "\n",
    "\n",
    "# Calculate the total estimated deaths\n",
    "total_estimated_deaths = estimated_deaths_56_65 + estimated_deaths_66_75\n",
    "\n",
    "# Calculate the total population\n",
    "total_population = people_age_56_60 + people_age_61_65 + people_age_66_70 + people_age_71_75\n",
    "\n",
    "# Calculate the overall death percentage\n",
    "overall_death_percentage = (total_estimated_deaths / total_population) * 100\n",
    "\n",
    "# Print the overall death percentage\n",
    "print(f\"Overall death percentage: {overall_death_percentage:.2f}%\")"
   ]
  },
  {
   "cell_type": "markdown",
   "id": "281ebd83-ffbb-4e4a-a985-25469231bdda",
   "metadata": {},
   "source": [
    "# Examine Population Growth Rate "
   ]
  },
  {
   "cell_type": "code",
   "execution_count": 85,
   "id": "f0471fa2-ad22-42d2-b104-f7a0e1e3d277",
   "metadata": {},
   "outputs": [
    {
     "name": "stdout",
     "output_type": "stream",
     "text": [
      "Estimated population for the next year: 10,218.17\n",
      "Estimated population growth: 1.00%\n"
     ]
    }
   ],
   "source": [
    "# Convert the current_population variable to a float if it's an integer\n",
    "current_population = float(10117)  # Example population\n",
    "\n",
    "# Define the growth_rate\n",
    "growth_rate = 0.01  # Example growth rate (1%)\n",
    "\n",
    "# Estimate the population growth for the next year\n",
    "estimated_population = current_population * (1 + growth_rate)\n",
    "\n",
    "# Calculate the population growth in percentage\n",
    "population_growth_percentage = (estimated_population - current_population) / current_population * 100\n",
    "\n",
    "# Print the results\n",
    "print(f'Estimated population for the next year: {estimated_population:,}')\n",
    "print(f'Estimated population growth: {population_growth_percentage:.2f}%')"
   ]
  },
  {
   "cell_type": "markdown",
   "id": "1b0cda45-6e27-4849-a63d-c934d5b96828",
   "metadata": {},
   "source": [
    "# Examine Religion affiliations:"
   ]
  },
  {
   "cell_type": "code",
   "execution_count": 66,
   "id": "41e074cc-3e70-4f97-80ac-2e7675a6a2b4",
   "metadata": {},
   "outputs": [
    {
     "data": {
      "image/png": "[encoded data removed]",
      "text/plain": [
       "<Figure size 640x480 with 1 Axes>"
      ]
     },
     "metadata": {},
     "output_type": "display_data"
    }
   ],
   "source": [
    "\n",
    "sns.set(style=\"whitegrid\")\n",
    "\n",
    "\n",
    "# Create the countplot\n",
    "ax = sns.countplot(data = census, x= 'Religion', palette = sns.color_palette(\"Set1\"))\n",
    "ax.set_title('Religion Distribution')\n",
    "\n",
    "# Get the current figure\n",
    "fig = plt.gcf()\n",
    "\n",
    "# Calculate the total population\n",
    "total_population = len(census)\n",
    "\n",
    "# Iterate through each patch\n",
    "for i, p in enumerate(ax.patches):\n",
    "    # Calculate the percentage of each patch\n",
    "    percentage = p.get_height() / total_population * 100\n",
    "    # Add the percentage as a text label above each patch\n",
    "    ax.annotate(f'{percentage:.1f}%', (p.get_x() + p.get_width() / 2, p.get_height() + 3), ha='center')\n",
    "\n",
    "# Rotate the x-axis labels\n",
    "plt.xticks(rotation=90)\n",
    "\n",
    "# Show the plot\n",
    "plt.show()\n",
    "\n",
    "#save the figure\n",
    "fig.savefig('religion_countplot.png', bbox_inches='tight') "
   ]
  },
  {
   "cell_type": "markdown",
   "id": "6ae14a31-1aff-496a-b4c3-65d8cbfee60d",
   "metadata": {},
   "source": [
    "# Examine Marriage and Divorce Rate:"
   ]
  },
  {
   "cell_type": "code",
   "execution_count": 67,
   "id": "f623f766-e474-42c1-be50-d9c8454dba95",
   "metadata": {},
   "outputs": [
    {
     "name": "stdout",
     "output_type": "stream",
     "text": [
      "Marriage rate: 0.26\n",
      "Divorce rate: 0.09\n"
     ]
    }
   ],
   "source": [
    "\n",
    "# Filter the dataset to only include rows where Marital Status is not null\n",
    "marital_status_data = census[census['Marital Status'].notnull()]\n",
    "\n",
    "# Create a dictionary to map marital status categories to labels\n",
    "marital_status_map = {'Married': 'Married', 'Divorced': 'Divorced'}\n",
    "\n",
    "# Count the number of occurrences for each marital status category\n",
    "marital_status_counts = marital_status_data['Marital Status'].value_counts()\n",
    "\n",
    "# Calculate the marriage and divorce rates\n",
    "marriage_rate = marital_status_counts[marital_status_map['Married']] / len(census) \n",
    "divorce_rate = marital_status_counts[marital_status_map['Divorced']] / len(census) \n",
    "\n",
    "# Print the results\n",
    "print(f'Marriage rate: {marriage_rate:.2f}')\n",
    "print(f'Divorce rate: {divorce_rate:.2f}')"
   ]
  },
  {
   "cell_type": "code",
   "execution_count": 68,
   "id": "fe26f6bf-67aa-4389-9c76-f5e0841bcf84",
   "metadata": {},
   "outputs": [
    {
     "name": "stdout",
     "output_type": "stream",
     "text": [
      "Marriage rate per thousand: 264.08\n",
      "Divorce rate per thousand: 86.08\n"
     ]
    }
   ],
   "source": [
    "# Calculate the marriage rate per thousand\n",
    "marriage_count = len(census[census['Marital Status'] == 'Married'])\n",
    "marriage_rate_per_thousand = marriage_count / len(census) * 1000\n",
    "\n",
    "# Calculate the divorce rate per thousand\n",
    "divorce_count = len(census[census['Marital Status'] == 'Divorced'])\n",
    "divorce_rate_per_thousand = divorce_count / len(census) * 1000\n",
    "\n",
    "# Print the results\n",
    "print(f'Marriage rate per thousand: {marriage_rate_per_thousand:.2f}')\n",
    "print(f'Divorce rate per thousand: {divorce_rate_per_thousand:.2f}')"
   ]
  },
  {
   "cell_type": "code",
   "execution_count": 69,
   "id": "1af4425a-1334-4e13-86a3-2af57cb5d91d",
   "metadata": {},
   "outputs": [
    {
     "name": "stdout",
     "output_type": "stream",
     "text": [
      "Estimated number of married individuals: 2672\n",
      "Estimated number of divorced individuals: 871\n"
     ]
    }
   ],
   "source": [
    "# Count the number of occurrences of each marital status category\n",
    "marital_status_counts = census['Marital Status'].value_counts()\n",
    "\n",
    "# Select the 'Married' category and print the result\n",
    "married_count = marital_status_counts['Married']\n",
    "print(f'Estimated number of married individuals: {married_count}')\n",
    "\n",
    "# Select the 'Divorced' category and print the result\n",
    "divorced_count = marital_status_counts['Divorced']\n",
    "print(f'Estimated number of divorced individuals: {divorced_count}')"
   ]
  },
  {
   "cell_type": "code",
   "execution_count": 83,
   "id": "fce796b2-1626-4803-b918-a46981733e2c",
   "metadata": {},
   "outputs": [
    {
     "data": {
      "image/png": "[encoded data removed]",
      "text/plain": [
       "<Figure size 640x480 with 1 Axes>"
      ]
     },
     "metadata": {},
     "output_type": "display_data"
    }
   ],
   "source": [
    "\n",
    "\n",
    "# Create the countplot\n",
    "ax = sns.countplot(data=census, x=\"Marital Status\", palette=\"Set2\")\n",
    "\n",
    "# Add percentage labels to each bar\n",
    "total_count = len(census)\n",
    "for p in ax.patches:\n",
    "    percentage = p.get_height() / total_count * 100\n",
    "    ax.annotate(f'{percentage:.1f}%', (p.get_x() + p.get_width() / 2, p.get_height()), ha='center')\n",
    "\n",
    "# Remove grid lines\n",
    "plt.grid(False)\n",
    "\n",
    "# Rotate x-tick labels\n",
    "plt.xticks(rotation=90)\n",
    "\n",
    "# Set the plot title\n",
    "ax.set_title('Marital Status Distribution')\n",
    "\n",
    "# Show the plot\n",
    "plt.show()\n",
    "\n",
    "# Save the figure\n",
    "#plt.savefig('marital_status_distribution.png', bbox_inches='tight')"
   ]
  },
  {
   "cell_type": "markdown",
   "id": "b0f4c811-c58a-42a9-ae4e-a90032539b34",
   "metadata": {},
   "source": [
    "# Examine Occupancy Level:"
   ]
  },
  {
   "cell_type": "code",
   "execution_count": 71,
   "id": "1725ac73-4d4b-4ecb-b868-53434b152a24",
   "metadata": {},
   "outputs": [
    {
     "name": "stdout",
     "output_type": "stream",
     "text": [
      "The total number of houses in the town is 22048.\n"
     ]
    }
   ],
   "source": [
    "# Calculate the total number of houses by counting the unique house numbers and streets\n",
    "total_houses = census['House Number'].nunique() * census['Street'].nunique()\n",
    "\n",
    "# Print the result\n",
    "print(f'The total number of houses in the town is {total_houses}.')"
   ]
  },
  {
   "cell_type": "code",
   "execution_count": 72,
   "id": "b1f56e70-dc39-428b-8272-1c5e2408f09c",
   "metadata": {},
   "outputs": [
    {
     "name": "stdout",
     "output_type": "stream",
     "text": [
      "      House Number              Street  Count\n",
      "2980           121  O'Connor Crossroad     22\n",
      "3123           182  O'Connor Crossroad     22\n",
      "381              5         Atkins Road     22\n",
      "3027           134  O'Connor Crossroad     21\n",
      "1894            28        Crown Branch     21\n",
      "...            ...                 ...    ...\n",
      "1545            20     Prince Parkways      1\n",
      "1542            20           Oak Manor      1\n",
      "1537            20         Martin Road      1\n",
      "1536            20       Lincoln Drive      1\n",
      "1579            21    Hangar Crossroad      1\n",
      "\n",
      "[3159 rows x 3 columns]\n",
      "Median of the 'Count' column: 3.00\n"
     ]
    }
   ],
   "source": [
    "\n",
    "\n",
    "# Group the rows based on the 'House Number' and 'Street' columns\n",
    "grouped_census = census.groupby(['House Number', 'Street'])\n",
    "\n",
    "# Count the number of rows in each group\n",
    "group_counts = grouped_census.size()\n",
    "\n",
    "# Convert the Series of group counts into a DataFrame\n",
    "group_counts_df = group_counts.reset_index(name='Count')\n",
    "\n",
    "# Sort the DataFrame by the 'Count' column in descending order\n",
    "group_counts_df = group_counts_df.sort_values(by='Count', ascending=False)\n",
    "print(group_counts_df)\n",
    "\n",
    "\n",
    "# Calculate the average of the 'Count' column\n",
    "median_count = group_counts_df['Count'].median()\n",
    "\n",
    "\n",
    "# Keep only the groups where 'Count' is greater than or equal to mean\n",
    "group_counts_df = group_counts_df[group_counts_df['Count'] >= median_count]\n",
    "\n",
    "print(f\"Median of the 'Count' column: {median_count:.2f}\")\n",
    "\n",
    "\n"
   ]
  },
  {
   "cell_type": "markdown",
   "id": "4869c8a7-64f3-4af3-885d-35eacaa4c7aa",
   "metadata": {},
   "source": [
    "# Examine Occupation"
   ]
  },
  {
   "cell_type": "code",
   "execution_count": 73,
   "id": "de1e33f1-9d93-44b0-a00b-01b6e9693342",
   "metadata": {},
   "outputs": [
    {
     "data": {
      "text/plain": [
       "Occupation\n",
       "Student                                 2014\n",
       "University Student                       669\n",
       "Unemployed                               615\n",
       "Child                                    596\n",
       "PhD Student                               27\n",
       "                                        ... \n",
       "Retired Hospital pharmacist                1\n",
       "Retired Designer, industrial/product       1\n",
       "Retired Copy                               1\n",
       "Retired Financial controller               1\n",
       "Retired Conservator, furniture             1\n",
       "Name: count, Length: 1100, dtype: int64"
      ]
     },
     "execution_count": 73,
     "metadata": {},
     "output_type": "execute_result"
    }
   ],
   "source": [
    "census[\"Occupation\"].value_counts()"
   ]
  },
  {
   "cell_type": "code",
   "execution_count": 74,
   "id": "81564080-4bd7-4952-87b8-86473ab0d512",
   "metadata": {},
   "outputs": [
    {
     "data": {
      "image/png": "[encoded data removed]",
      "text/plain": [
       "<Figure size 640x480 with 1 Axes>"
      ]
     },
     "metadata": {},
     "output_type": "display_data"
    }
   ],
   "source": [
    "\n",
    "\n",
    "# Filter rows where the \"Occupation\" column is in ['Unemployed', 'University Student', 'PhD Student', 'Child']\n",
    "filtered_census = census[census[\"Occupation\"].isin(['Unemployed', 'University Student', 'PhD Student', 'Student', 'Child'])]\n",
    "\n",
    "# Calculate the percentage of people in each occupation category\n",
    "filtered_occupation_counts = filtered_census[\"Occupation\"].value_counts(normalize=True) * 100\n",
    "\n",
    "# Create a bar graph to visualize the occupation percentages\n",
    "fig, ax = plt.subplots()\n",
    "occupation_counts_bar = ax.bar(filtered_occupation_counts.index, filtered_occupation_counts.values)\n",
    "\n",
    "# Add the percentage as a label on top of each bar\n",
    "for bar in occupation_counts_bar:\n",
    "    height = bar.get_height()\n",
    "    ax.annotate(f'{height:.1f}%',\n",
    "                 xy=(bar.get_x() + bar.get_width() / 2, height),\n",
    "                 xytext=(0, 3),  # 3 points vertical offset\n",
    "                 textcoords=\"offset points\",\n",
    "                 ha='center',\n",
    "                 va='bottom')\n",
    "\n",
    "# Set the labels for the x-axis and y-axis\n",
    "ax.set_xlabel(\"Occupation\")\n",
    "ax.set_ylabel(\"% of People\")\n",
    "\n",
    "# Remove the grid lines from the plot\n",
    "ax.grid(False)\n",
    "\n",
    "# Rotate x-tick labels\n",
    "plt.xticks(rotation=90)\n",
    "\n",
    "# Display the graph\n",
    "plt.show()\n",
    "\n",
    "#save the figure\n",
    "fig.savefig('occupation_countplot.png', bbox_inches='tight') "
   ]
  },
  {
   "cell_type": "markdown",
   "id": "af7b5a0d-99ea-44ef-acc0-25213a8835b7",
   "metadata": {},
   "source": [
    "# Examine Old Age Care"
   ]
  },
  {
   "cell_type": "code",
   "execution_count": 75,
   "id": "8f8a9823-377a-4add-9b9c-b31ec022cd6f",
   "metadata": {},
   "outputs": [
    {
     "name": "stdout",
     "output_type": "stream",
     "text": [
      "The percentage of seniors (Age >= 65) in the town is 9.9%\n"
     ]
    }
   ],
   "source": [
    "# Filter rows where the \"Age\" column is greater than or equal to 65\n",
    "senior_counts = census[census[\"Age\"] >= 65][\"Age\"].value_counts()\n",
    "\n",
    "# Calculate the percentage of seniors (Age >= 65)\n",
    "senior_percentage = senior_counts.sum() / len(census) * 100\n",
    "\n",
    "# Print the result\n",
    "print(f'The percentage of seniors (Age >= 65) in the town is {senior_percentage:.1f}%')"
   ]
  },
  {
   "cell_type": "code",
   "execution_count": 76,
   "id": "cdd718c3-c9b8-404b-b86e-1b884ace8903",
   "metadata": {},
   "outputs": [
    {
     "name": "stdout",
     "output_type": "stream",
     "text": [
      "The percentage of seniors (Age >= 70) in the town is 6.8%\n"
     ]
    }
   ],
   "source": [
    "# Filter rows where the \"Age\" column is greater than or equal to 70\n",
    "senior_counts = census[census[\"Age\"] >= 70][\"Age\"].value_counts()\n",
    "\n",
    "# Calculate the percentage of seniors (Age >= 70)\n",
    "senior_percentage = senior_counts.sum() / len(census) * 100\n",
    "\n",
    "# Print the result\n",
    "print(f'The percentage of seniors (Age >= 70) in the town is {senior_percentage:.1f}%')"
   ]
  },
  {
   "cell_type": "code",
   "execution_count": 77,
   "id": "b4772b38-179f-4a02-b691-966f37158b45",
   "metadata": {},
   "outputs": [
    {
     "name": "stdout",
     "output_type": "stream",
     "text": [
      "The percentage of seniors (Age >= 75) in the town is 4.3%\n"
     ]
    }
   ],
   "source": [
    "# Filter rows where the \"Age\" column is greater than or equal to 75\n",
    "senior_counts = census[census[\"Age\"] >= 75][\"Age\"].value_counts()\n",
    "\n",
    "# Calculate the percentage of seniors (Age >= 75)\n",
    "senior_percentage = senior_counts.sum() / len(census) * 100\n",
    "\n",
    "# Print the result\n",
    "print(f'The percentage of seniors (Age >= 75) in the town is {senior_percentage:.1f}%')"
   ]
  },
  {
   "cell_type": "markdown",
   "id": "4801647d-55d6-449e-8fff-283a47f47140",
   "metadata": {},
   "source": [
    "# Examine Spending In school"
   ]
  },
  {
   "cell_type": "code",
   "execution_count": 78,
   "id": "aa84fc3e-9fb6-4d96-86c2-215c6e6489f8",
   "metadata": {},
   "outputs": [
    {
     "name": "stdout",
     "output_type": "stream",
     "text": [
      "Occupation\n",
      "Student    2014\n",
      "Name: count, dtype: int64\n",
      "The percentage of Student individuals in the town is 19.9%\n"
     ]
    }
   ],
   "source": [
    "# Filter rows where the \"Occupation\" column is equal to \"Student\"\n",
    "Student_counts = census[census[\"Occupation\"] == \"Student\"][\"Occupation\"].value_counts()\n",
    "print(Student_counts)\n",
    "\n",
    "# Calculate the total number of individuals in the census dataset\n",
    "total_count = len(census)\n",
    "\n",
    "# Calculate the percentage of unemployed individuals\n",
    "Student_percentage = Student_counts.sum() / total_count * 100\n",
    "\n",
    "# Print the result\n",
    "print(f'The percentage of Student individuals in the town is {Student_percentage:.1f}%')"
   ]
  },
  {
   "cell_type": "markdown",
   "id": "ab97e247-0f9f-4b2d-8bcb-13a479150953",
   "metadata": {},
   "source": [
    "# Examine Commuters"
   ]
  },
  {
   "cell_type": "code",
   "execution_count": 79,
   "id": "45757fb4-bbe9-470d-bb97-a9ed80ae3af9",
   "metadata": {},
   "outputs": [
    {
     "data": {
      "text/plain": [
       "669"
      ]
     },
     "execution_count": 79,
     "metadata": {},
     "output_type": "execute_result"
    }
   ],
   "source": [
    "#checking for total number of University Student\n",
    "census[\"Occupation\"].value_counts()[\"University Student\"]"
   ]
  },
  {
   "cell_type": "code",
   "execution_count": 80,
   "id": "ecc0c2c8-66ff-49c4-9cc7-fc29e19c2943",
   "metadata": {},
   "outputs": [
    {
     "data": {
      "text/plain": [
       "27"
      ]
     },
     "execution_count": 80,
     "metadata": {},
     "output_type": "execute_result"
    }
   ],
   "source": [
    "#checking for total number of PhD Student\n",
    "census[\"Occupation\"].value_counts()[\"PhD Student\"]"
   ]
  },
  {
   "cell_type": "code",
   "execution_count": 81,
   "id": "885c08e2-4033-4352-a25e-f16ee15565d4",
   "metadata": {},
   "outputs": [
    {
     "data": {
      "text/plain": [
       "6"
      ]
     },
     "execution_count": 81,
     "metadata": {},
     "output_type": "execute_result"
    }
   ],
   "source": [
    "#checking for total number of Associate professor\n",
    "census[\"Occupation\"].value_counts()[\"Associate Professor\"]"
   ]
  },
  {
   "cell_type": "code",
   "execution_count": null,
   "id": "04f36805-b8b3-4707-8d63-2ba857ef1ad1",
   "metadata": {},
   "outputs": [],
   "source": []
  }
 ],
 "metadata": {
  "kernelspec": {
   "display_name": "Python 3 (ipykernel)",
   "language": "python",
   "name": "python3"
  },
  "language_info": {
   "codemirror_mode": {
    "name": "ipython",
    "version": 3
   },
   "file_extension": ".py",
   "mimetype": "text/x-python",
   "name": "python",
   "nbconvert_exporter": "python",
   "pygments_lexer": "ipython3",
   "version": "3.12.6"
  }
 },
 "nbformat": 4,
 "nbformat_minor": 5
}
